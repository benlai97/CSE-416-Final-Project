{
 "cells": [
  {
   "cell_type": "markdown",
   "metadata": {},
   "source": [
    "# Government Legislative Cosponsorship Analysis\n",
    "Name: Cate Mio Jiang, Jonathan Chen, Ben Lai\n",
    "\n",
    "Github: https://github.com/jowch/CSE-416-Final-Project.git"
   ]
  },
  {
   "cell_type": "markdown",
   "metadata": {},
   "source": [
    "### Note:  \n",
    "This notebook prepares the graphml files and performs complex network analysis for both US and European governments"
   ]
  },
  {
   "cell_type": "code",
   "execution_count": 36,
   "metadata": {},
   "outputs": [],
   "source": [
    "import graph_tool.all as gt\n",
    "import os \n",
    "from functools import reduce\n",
    "from re import search\n",
    "from lib.util.graphs import combine_graphs\n",
    "from lib.analysis import clustering\n",
    "from lib.analysis import dist\n",
    "from lib.analysis import model\n",
    "from lib.analysis import power\n",
    "from lib.analysis import centrality\n",
    "from lib.analysis import stats"
   ]
  },
  {
   "cell_type": "markdown",
   "metadata": {},
   "source": [
    "## Part 1: Loading and Combining Graphs\n",
    "\n",
    "The following section loads and combines graphml files into a single graph for each country and its corresponding NET files"
   ]
  },
  {
   "cell_type": "code",
   "execution_count": 3,
   "metadata": {},
   "outputs": [],
   "source": [
    "root = '/Users/benjaminlai/Desktop/CSE-416-Final-Project/data/'\n",
    "countries = os.listdir(root)\n",
    "nets = [country + \"/\" + net + \"/\" for country in countries\n",
    "                            for net in os.listdir(root + country)\n",
    "                            if country != \"uk\"]\n",
    "for net in nets:\n",
    "    combine_graphs(root + net)"
   ]
  },
  {
   "cell_type": "code",
   "execution_count": 55,
   "metadata": {},
   "outputs": [
    {
     "name": "stdout",
     "output_type": "stream",
     "text": [
      "['_graphml_vertex_id', 'b', 'constituency', 'g', 'label', 'n_bills', 'party', 'photo', 'r', 'size', 'url', 'x', 'y', 'z']\n"
     ]
    },
    {
     "data": {
      "text/plain": [
       "-0.26077508149221296"
      ]
     },
     "execution_count": 55,
     "metadata": {},
     "output_type": "execute_result"
    }
   ],
   "source": [
    "g = gt.load_graph('/Users/benjaminlai/Desktop/CSE-416-Final-Project/data/austria/net_at/net_at2013-2018.graphml')\n",
    "# stats.assortativity(g, g.vertex_properties['label'])\n",
    "print(g.vertex_properties.keys())\n",
    "stats.assortativity(g, g.vertex_properties['b'])"
   ]
  },
  {
   "cell_type": "code",
   "execution_count": null,
   "metadata": {},
   "outputs": [],
   "source": []
  }
 ],
 "metadata": {
  "kernelspec": {
   "display_name": "Python 3",
   "language": "python",
   "name": "python3"
  },
  "language_info": {
   "codemirror_mode": {
    "name": "ipython",
    "version": 3
   },
   "file_extension": ".py",
   "mimetype": "text/x-python",
   "name": "python",
   "nbconvert_exporter": "python",
   "pygments_lexer": "ipython3",
   "version": "3.7.0"
  }
 },
 "nbformat": 4,
 "nbformat_minor": 2
}
