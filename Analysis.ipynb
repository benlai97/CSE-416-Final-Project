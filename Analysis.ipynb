{
 "cells": [
  {
   "cell_type": "markdown",
   "metadata": {},
   "source": [
    "# Government Legislative Cosponsorship Analysis\n",
    "Name: Cate Mio Jiang, Jonathan Chen, Ben Lai\n",
    "\n",
    "Github: https://github.com/jowch/CSE-416-Final-Project.git"
   ]
  },
  {
   "cell_type": "markdown",
   "metadata": {},
   "source": [
    "### Note:  \n",
    "This notebook prepares the graphml files and performs complex network analysis for both US and European governments"
   ]
  },
  {
   "cell_type": "code",
   "execution_count": 29,
   "metadata": {},
   "outputs": [],
   "source": [
    "import graph_tool.all as gt\n",
    "import os \n",
    "from functools import reduce\n",
    "from re import search\n",
    "from lib.util.graphs import combine_graphs\n",
    "from lib.analysis import clustering\n",
    "from lib.analysis import dist\n",
    "from lib.analysis import model\n",
    "from lib.analysis import power\n",
    "from lib.analysis import centrality\n",
    "from lib.analysis import stats"
   ]
  },
  {
   "cell_type": "markdown",
   "metadata": {},
   "source": [
    "## Part 1: Loading and Combining Graphs\n",
    "\n",
    "The following section loads and combines graphml files into a single graph for each country and its corresponding NET files"
   ]
  },
  {
   "cell_type": "code",
   "execution_count": 2,
   "metadata": {},
   "outputs": [
    {
     "ename": "NotADirectoryError",
     "evalue": "[Errno 20] Not a directory: '/Users/benjaminlai/Desktop/CSE-416-Final-Project/data/sweden/net_se.graphml/'",
     "output_type": "error",
     "traceback": [
      "\u001b[0;31m---------------------------------------------------------------------------\u001b[0m",
      "\u001b[0;31mNotADirectoryError\u001b[0m                        Traceback (most recent call last)",
      "\u001b[0;32m<ipython-input-2-11d4cd168ef0>\u001b[0m in \u001b[0;36m<module>\u001b[0;34m()\u001b[0m\n\u001b[1;32m      5\u001b[0m                             if country != \"uk\"]\n\u001b[1;32m      6\u001b[0m \u001b[0;32mfor\u001b[0m \u001b[0mnet\u001b[0m \u001b[0;32min\u001b[0m \u001b[0mnets\u001b[0m\u001b[0;34m:\u001b[0m\u001b[0;34m\u001b[0m\u001b[0m\n\u001b[0;32m----> 7\u001b[0;31m     \u001b[0mcombine_graphs\u001b[0m\u001b[0;34m(\u001b[0m\u001b[0mroot\u001b[0m \u001b[0;34m+\u001b[0m \u001b[0mnet\u001b[0m\u001b[0;34m)\u001b[0m\u001b[0;34m\u001b[0m\u001b[0m\n\u001b[0m",
      "\u001b[0;32m~/Desktop/CSE-416-Final-Project/lib/util/graphs.py\u001b[0m in \u001b[0;36mcombine_graphs\u001b[0;34m(path)\u001b[0m\n\u001b[1;32m      5\u001b[0m \u001b[0;34m\u001b[0m\u001b[0m\n\u001b[1;32m      6\u001b[0m \u001b[0;32mdef\u001b[0m \u001b[0mcombine_graphs\u001b[0m\u001b[0;34m(\u001b[0m\u001b[0mpath\u001b[0m\u001b[0;34m)\u001b[0m\u001b[0;34m:\u001b[0m\u001b[0;34m\u001b[0m\u001b[0m\n\u001b[0;32m----> 7\u001b[0;31m     \u001b[0mdata\u001b[0m \u001b[0;34m=\u001b[0m \u001b[0mos\u001b[0m\u001b[0;34m.\u001b[0m\u001b[0mlistdir\u001b[0m\u001b[0;34m(\u001b[0m\u001b[0mpath\u001b[0m\u001b[0;34m)\u001b[0m\u001b[0;34m\u001b[0m\u001b[0m\n\u001b[0m\u001b[1;32m      8\u001b[0m     \u001b[0mgraphs\u001b[0m \u001b[0;34m=\u001b[0m \u001b[0;34m[\u001b[0m\u001b[0mgt\u001b[0m\u001b[0;34m.\u001b[0m\u001b[0mload_graph\u001b[0m\u001b[0;34m(\u001b[0m\u001b[0mpath\u001b[0m \u001b[0;34m+\u001b[0m \u001b[0mx\u001b[0m\u001b[0;34m)\u001b[0m \u001b[0;32mfor\u001b[0m \u001b[0mx\u001b[0m \u001b[0;32min\u001b[0m \u001b[0mdata\u001b[0m\u001b[0;34m]\u001b[0m\u001b[0;34m\u001b[0m\u001b[0m\n\u001b[1;32m      9\u001b[0m     \u001b[0mgraph\u001b[0m \u001b[0;34m=\u001b[0m \u001b[0mreduce\u001b[0m\u001b[0;34m(\u001b[0m\u001b[0mgt\u001b[0m\u001b[0;34m.\u001b[0m\u001b[0mgraph_union\u001b[0m\u001b[0;34m,\u001b[0m \u001b[0mgraphs\u001b[0m\u001b[0;34m)\u001b[0m\u001b[0;34m\u001b[0m\u001b[0m\n",
      "\u001b[0;31mNotADirectoryError\u001b[0m: [Errno 20] Not a directory: '/Users/benjaminlai/Desktop/CSE-416-Final-Project/data/sweden/net_se.graphml/'"
     ]
    }
   ],
   "source": [
    "root = '/Users/benjaminlai/Desktop/CSE-416-Final-Project/data/'\n",
    "countries = os.listdir(root)\n",
    "nets = [country + \"/\" + net + \"/\" for country in countries\n",
    "                            for net in os.listdir(root + country)\n",
    "                            if country != \"uk\"]\n",
    "for net in nets:\n",
    "    combine_graphs(root + net)"
   ]
  },
  {
   "cell_type": "code",
   "execution_count": 32,
   "metadata": {},
   "outputs": [
    {
     "data": {
      "text/plain": [
       "{'_graphml_vertex_id': <PropertyMap object with key type 'Vertex' and value type 'string', for Graph 0x130dafa90, at 0x130db5940>, 'b': <PropertyMap object with key type 'Vertex' and value type 'int32_t', for Graph 0x130dafa90, at 0x130db59e8>, 'constituency': <PropertyMap object with key type 'Vertex' and value type 'string', for Graph 0x130dafa90, at 0x130db5a20>, 'g': <PropertyMap object with key type 'Vertex' and value type 'int32_t', for Graph 0x130dafa90, at 0x130db5a58>, 'label': <PropertyMap object with key type 'Vertex' and value type 'string', for Graph 0x130dafa90, at 0x130db5a90>, 'n_bills': <PropertyMap object with key type 'Vertex' and value type 'double', for Graph 0x130dafa90, at 0x130db5ac8>, 'party': <PropertyMap object with key type 'Vertex' and value type 'string', for Graph 0x130dafa90, at 0x130db5b00>, 'photo': <PropertyMap object with key type 'Vertex' and value type 'string', for Graph 0x130dafa90, at 0x130db5b38>, 'r': <PropertyMap object with key type 'Vertex' and value type 'int32_t', for Graph 0x130dafa90, at 0x130db5b70>, 'size': <PropertyMap object with key type 'Vertex' and value type 'double', for Graph 0x130dafa90, at 0x130db5ba8>, 'url': <PropertyMap object with key type 'Vertex' and value type 'string', for Graph 0x130dafa90, at 0x130db5be0>, 'x': <PropertyMap object with key type 'Vertex' and value type 'double', for Graph 0x130dafa90, at 0x130db5c18>, 'y': <PropertyMap object with key type 'Vertex' and value type 'double', for Graph 0x130dafa90, at 0x130db5c50>, 'z': <PropertyMap object with key type 'Vertex' and value type 'double', for Graph 0x130dafa90, at 0x130db5c88>}"
      ]
     },
     "execution_count": 32,
     "metadata": {},
     "output_type": "execute_result"
    }
   ],
   "source": [
    "g = gt.load_graph('/Users/benjaminlai/Desktop/CSE-416-Final-Project/data/austria/net_at/net_at2013-2018.graphml')\n",
    "# partyMap = {}\n",
    "# parties = [party for party in g.vertex_properties['party']]\n",
    "# d = dict([(y,x+1) for x,y in enumerate(sorted(set(parties)))])\n",
    "# out = []\n",
    "# for party in parties:\n",
    "#     out.append(d[party])\n",
    "\n",
    "# party_id = g.new_vertex_property(\"int32_t\")\n",
    "# for i in range(len(out)):\n",
    "#     party_id[g.vertex(i)] = out[i]\n",
    "# # party_id\n",
    "# g.vertex_properties['party_id'] = party_id\n",
    "g.vertex_properties\n",
    "#     print('hi')"
   ]
  },
  {
   "cell_type": "code",
   "execution_count": null,
   "metadata": {},
   "outputs": [],
   "source": []
  }
 ],
 "metadata": {
  "kernelspec": {
   "display_name": "Python 3",
   "language": "python",
   "name": "python3"
  },
  "language_info": {
   "codemirror_mode": {
    "name": "ipython",
    "version": 3
   },
   "file_extension": ".py",
   "mimetype": "text/x-python",
   "name": "python",
   "nbconvert_exporter": "python",
   "pygments_lexer": "ipython3",
   "version": "3.7.0"
  }
 },
 "nbformat": 4,
 "nbformat_minor": 2
}
