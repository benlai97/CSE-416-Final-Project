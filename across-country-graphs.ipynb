{
 "cells": [
  {
   "cell_type": "markdown",
   "metadata": {},
   "source": [
    "## Creating Additional Graphs for Across-Country Results"
   ]
  },
  {
   "cell_type": "code",
   "execution_count": 1,
   "metadata": {},
   "outputs": [],
   "source": [
    "import pandas as pd\n",
    "import os, re\n",
    "import seaborn as sns\n",
    "import matplotlib.pyplot as plt"
   ]
  },
  {
   "cell_type": "code",
   "execution_count": 2,
   "metadata": {},
   "outputs": [
    {
     "data": {
      "text/html": [
       "<div>\n",
       "<style scoped>\n",
       "    .dataframe tbody tr th:only-of-type {\n",
       "        vertical-align: middle;\n",
       "    }\n",
       "\n",
       "    .dataframe tbody tr th {\n",
       "        vertical-align: top;\n",
       "    }\n",
       "\n",
       "    .dataframe thead th {\n",
       "        text-align: right;\n",
       "    }\n",
       "</style>\n",
       "<table border=\"1\" class=\"dataframe\">\n",
       "  <thead>\n",
       "    <tr style=\"text-align: right;\">\n",
       "      <th></th>\n",
       "      <th>Austria</th>\n",
       "      <th>France</th>\n",
       "      <th>UK</th>\n",
       "      <th>Denmark</th>\n",
       "      <th>US</th>\n",
       "      <th>Switzerland</th>\n",
       "      <th>Sweden</th>\n",
       "    </tr>\n",
       "  </thead>\n",
       "  <tbody>\n",
       "    <tr>\n",
       "      <th>Number of Edges</th>\n",
       "      <td>63.000000</td>\n",
       "      <td>7841.461538</td>\n",
       "      <td>663.000000</td>\n",
       "      <td>242.615385</td>\n",
       "      <td>101524.666667</td>\n",
       "      <td>1699.600000</td>\n",
       "      <td>3759.000000</td>\n",
       "    </tr>\n",
       "    <tr>\n",
       "      <th>Number of Vertices</th>\n",
       "      <td>63.142857</td>\n",
       "      <td>443.538462</td>\n",
       "      <td>675.000000</td>\n",
       "      <td>109.076923</td>\n",
       "      <td>548.000000</td>\n",
       "      <td>134.000000</td>\n",
       "      <td>384.000000</td>\n",
       "    </tr>\n",
       "    <tr>\n",
       "      <th>Clustering Coefficient</th>\n",
       "      <td>0.015251</td>\n",
       "      <td>0.561757</td>\n",
       "      <td>0.000000</td>\n",
       "      <td>0.264482</td>\n",
       "      <td>0.977124</td>\n",
       "      <td>0.555829</td>\n",
       "      <td>0.394497</td>\n",
       "    </tr>\n",
       "    <tr>\n",
       "      <th>Average Degree</th>\n",
       "      <td>1.951212</td>\n",
       "      <td>31.576930</td>\n",
       "      <td>1.964444</td>\n",
       "      <td>3.987769</td>\n",
       "      <td>370.523013</td>\n",
       "      <td>18.472555</td>\n",
       "      <td>19.539134</td>\n",
       "    </tr>\n",
       "    <tr>\n",
       "      <th>Average Excess Degree</th>\n",
       "      <td>3.184502</td>\n",
       "      <td>73.906622</td>\n",
       "      <td>236.666667</td>\n",
       "      <td>7.683237</td>\n",
       "      <td>430.300148</td>\n",
       "      <td>30.242941</td>\n",
       "      <td>25.445347</td>\n",
       "    </tr>\n",
       "    <tr>\n",
       "      <th>Average Distance</th>\n",
       "      <td>4.177512</td>\n",
       "      <td>2.737581</td>\n",
       "      <td>1.991582</td>\n",
       "      <td>3.837400</td>\n",
       "      <td>1.173752</td>\n",
       "      <td>2.006861</td>\n",
       "      <td>3.018293</td>\n",
       "    </tr>\n",
       "    <tr>\n",
       "      <th>Size of LCC</th>\n",
       "      <td>40.857143</td>\n",
       "      <td>442.923077</td>\n",
       "      <td>346.000000</td>\n",
       "      <td>100.307692</td>\n",
       "      <td>480.666667</td>\n",
       "      <td>134.000000</td>\n",
       "      <td>374.625000</td>\n",
       "    </tr>\n",
       "    <tr>\n",
       "      <th>Number of CC</th>\n",
       "      <td>7.000000</td>\n",
       "      <td>1.307692</td>\n",
       "      <td>12.000000</td>\n",
       "      <td>2.615385</td>\n",
       "      <td>1.666667</td>\n",
       "      <td>1.000000</td>\n",
       "      <td>1.250000</td>\n",
       "    </tr>\n",
       "  </tbody>\n",
       "</table>\n",
       "</div>"
      ],
      "text/plain": [
       "                          Austria       France          UK     Denmark  \\\n",
       "Number of Edges         63.000000  7841.461538  663.000000  242.615385   \n",
       "Number of Vertices      63.142857   443.538462  675.000000  109.076923   \n",
       "Clustering Coefficient   0.015251     0.561757    0.000000    0.264482   \n",
       "Average Degree           1.951212    31.576930    1.964444    3.987769   \n",
       "Average Excess Degree    3.184502    73.906622  236.666667    7.683237   \n",
       "Average Distance         4.177512     2.737581    1.991582    3.837400   \n",
       "Size of LCC             40.857143   442.923077  346.000000  100.307692   \n",
       "Number of CC             7.000000     1.307692   12.000000    2.615385   \n",
       "\n",
       "                                   US  Switzerland       Sweden  \n",
       "Number of Edges         101524.666667  1699.600000  3759.000000  \n",
       "Number of Vertices         548.000000   134.000000   384.000000  \n",
       "Clustering Coefficient       0.977124     0.555829     0.394497  \n",
       "Average Degree             370.523013    18.472555    19.539134  \n",
       "Average Excess Degree      430.300148    30.242941    25.445347  \n",
       "Average Distance             1.173752     2.006861     3.018293  \n",
       "Size of LCC                480.666667   134.000000   374.625000  \n",
       "Number of CC                 1.666667     1.000000     1.250000  "
      ]
     },
     "execution_count": 2,
     "metadata": {},
     "output_type": "execute_result"
    }
   ],
   "source": [
    "# Go through all the relevant csv in summary/ and add the means of each feature to a DataFrame\n",
    "\n",
    "all_data = pd.DataFrame()\n",
    "dir = 'summary/'\n",
    "for file in os.listdir(dir):\n",
    "    if re.match(r'^summary.\\w*.csv$', file):\n",
    "        name = file.split('.')[1].capitalize()\n",
    "        if len(name) <= 2:\n",
    "            name = name.upper()\n",
    "        path = dir + file\n",
    "        data = pd.read_csv(path, index_col='Name').mean().to_frame(name = name)\n",
    "        all_data = pd.concat([all_data, data], axis=1)\n",
    "all_data"
   ]
  },
  {
   "cell_type": "code",
   "execution_count": 4,
   "metadata": {},
   "outputs": [
    {
     "data": {
      "text/plain": [
       "Index(['Austria', 'France', 'UK', 'Denmark', 'US', 'Switzerland', 'Sweden'], dtype='object')"
      ]
     },
     "execution_count": 4,
     "metadata": {},
     "output_type": "execute_result"
    }
   ],
   "source": [
    "# Creating graph for number of edges and number of vertices\n",
    "x = all_data.columns\n",
    "y1 = \"Number of Edges\"\n",
    "y2 = \"Number of Vertices\"\n",
    "\n",
    "plt.figure()\n"
   ]
  },
  {
   "cell_type": "code",
   "execution_count": null,
   "metadata": {},
   "outputs": [],
   "source": []
  }
 ],
 "metadata": {
  "kernelspec": {
   "display_name": "Python 3",
   "language": "python",
   "name": "python3"
  },
  "language_info": {
   "codemirror_mode": {
    "name": "ipython",
    "version": 3
   },
   "file_extension": ".py",
   "mimetype": "text/x-python",
   "name": "python",
   "nbconvert_exporter": "python",
   "pygments_lexer": "ipython3",
   "version": "3.7.0"
  }
 },
 "nbformat": 4,
 "nbformat_minor": 2
}
