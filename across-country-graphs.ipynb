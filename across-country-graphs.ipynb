{
 "cells": [
  {
   "cell_type": "markdown",
   "metadata": {},
   "source": [
    "## Creating Additional Graphs for Across-Country Results"
   ]
  },
  {
   "cell_type": "code",
   "execution_count": 1,
   "metadata": {},
   "outputs": [],
   "source": [
    "import pandas as pd\n",
    "import os, re\n",
    "import seaborn as sns\n",
    "import matplotlib.pyplot as plt"
   ]
  },
  {
   "cell_type": "code",
   "execution_count": 10,
   "metadata": {},
   "outputs": [
    {
     "data": {
      "text/html": [
       "<div>\n",
       "<style scoped>\n",
       "    .dataframe tbody tr th:only-of-type {\n",
       "        vertical-align: middle;\n",
       "    }\n",
       "\n",
       "    .dataframe tbody tr th {\n",
       "        vertical-align: top;\n",
       "    }\n",
       "\n",
       "    .dataframe thead th {\n",
       "        text-align: right;\n",
       "    }\n",
       "</style>\n",
       "<table border=\"1\" class=\"dataframe\">\n",
       "  <thead>\n",
       "    <tr style=\"text-align: right;\">\n",
       "      <th></th>\n",
       "      <th>Number of Edges</th>\n",
       "      <th>Number of Vertices</th>\n",
       "      <th>Clustering Coefficient</th>\n",
       "      <th>Average Degree</th>\n",
       "      <th>Average Excess Degree</th>\n",
       "      <th>Average Distance</th>\n",
       "      <th>Size of LCC</th>\n",
       "      <th>Number of CC</th>\n",
       "    </tr>\n",
       "  </thead>\n",
       "  <tbody>\n",
       "    <tr>\n",
       "      <th>Austria</th>\n",
       "      <td>63.000000</td>\n",
       "      <td>63.142857</td>\n",
       "      <td>0.015251</td>\n",
       "      <td>1.951212</td>\n",
       "      <td>3.184502</td>\n",
       "      <td>4.177512</td>\n",
       "      <td>40.857143</td>\n",
       "      <td>7.000000</td>\n",
       "    </tr>\n",
       "    <tr>\n",
       "      <th>France</th>\n",
       "      <td>7841.461538</td>\n",
       "      <td>443.538462</td>\n",
       "      <td>0.561757</td>\n",
       "      <td>31.576930</td>\n",
       "      <td>73.906622</td>\n",
       "      <td>2.737581</td>\n",
       "      <td>442.923077</td>\n",
       "      <td>1.307692</td>\n",
       "    </tr>\n",
       "    <tr>\n",
       "      <th>UK</th>\n",
       "      <td>663.000000</td>\n",
       "      <td>675.000000</td>\n",
       "      <td>0.000000</td>\n",
       "      <td>1.964444</td>\n",
       "      <td>236.666667</td>\n",
       "      <td>1.991582</td>\n",
       "      <td>346.000000</td>\n",
       "      <td>12.000000</td>\n",
       "    </tr>\n",
       "    <tr>\n",
       "      <th>Denmark</th>\n",
       "      <td>242.615385</td>\n",
       "      <td>109.076923</td>\n",
       "      <td>0.264482</td>\n",
       "      <td>3.987769</td>\n",
       "      <td>7.683237</td>\n",
       "      <td>3.837400</td>\n",
       "      <td>100.307692</td>\n",
       "      <td>2.615385</td>\n",
       "    </tr>\n",
       "    <tr>\n",
       "      <th>US</th>\n",
       "      <td>101524.666667</td>\n",
       "      <td>548.000000</td>\n",
       "      <td>0.977124</td>\n",
       "      <td>370.523013</td>\n",
       "      <td>430.300148</td>\n",
       "      <td>1.173752</td>\n",
       "      <td>480.666667</td>\n",
       "      <td>1.666667</td>\n",
       "    </tr>\n",
       "    <tr>\n",
       "      <th>Switzerland</th>\n",
       "      <td>1699.600000</td>\n",
       "      <td>134.000000</td>\n",
       "      <td>0.555829</td>\n",
       "      <td>18.472555</td>\n",
       "      <td>30.242941</td>\n",
       "      <td>2.006861</td>\n",
       "      <td>134.000000</td>\n",
       "      <td>1.000000</td>\n",
       "    </tr>\n",
       "    <tr>\n",
       "      <th>Sweden</th>\n",
       "      <td>3759.000000</td>\n",
       "      <td>384.000000</td>\n",
       "      <td>0.394497</td>\n",
       "      <td>19.539134</td>\n",
       "      <td>25.445347</td>\n",
       "      <td>3.018293</td>\n",
       "      <td>374.625000</td>\n",
       "      <td>1.250000</td>\n",
       "    </tr>\n",
       "  </tbody>\n",
       "</table>\n",
       "</div>"
      ],
      "text/plain": [
       "             Number of Edges  Number of Vertices  Clustering Coefficient  \\\n",
       "Austria            63.000000           63.142857                0.015251   \n",
       "France           7841.461538          443.538462                0.561757   \n",
       "UK                663.000000          675.000000                0.000000   \n",
       "Denmark           242.615385          109.076923                0.264482   \n",
       "US             101524.666667          548.000000                0.977124   \n",
       "Switzerland      1699.600000          134.000000                0.555829   \n",
       "Sweden           3759.000000          384.000000                0.394497   \n",
       "\n",
       "             Average Degree  Average Excess Degree  Average Distance  \\\n",
       "Austria            1.951212               3.184502          4.177512   \n",
       "France            31.576930              73.906622          2.737581   \n",
       "UK                 1.964444             236.666667          1.991582   \n",
       "Denmark            3.987769               7.683237          3.837400   \n",
       "US               370.523013             430.300148          1.173752   \n",
       "Switzerland       18.472555              30.242941          2.006861   \n",
       "Sweden            19.539134              25.445347          3.018293   \n",
       "\n",
       "             Size of LCC  Number of CC  \n",
       "Austria        40.857143      7.000000  \n",
       "France        442.923077      1.307692  \n",
       "UK            346.000000     12.000000  \n",
       "Denmark       100.307692      2.615385  \n",
       "US            480.666667      1.666667  \n",
       "Switzerland   134.000000      1.000000  \n",
       "Sweden        374.625000      1.250000  "
      ]
     },
     "execution_count": 10,
     "metadata": {},
     "output_type": "execute_result"
    }
   ],
   "source": [
    "# Go through all the relevant csv in summary/ and add the means of each feature to a DataFrame\n",
    "\n",
    "all_data = pd.DataFrame()\n",
    "dir = 'summary/'\n",
    "for file in os.listdir(dir):\n",
    "    if re.match(r'^summary.\\w*.csv$', file):\n",
    "        name = file.split('.')[1].capitalize()\n",
    "        if len(name) <= 2:\n",
    "            name = name.upper()\n",
    "        path = dir + file\n",
    "        data = pd.read_csv(path, index_col='Name').mean().to_frame(name = name)\n",
    "        all_data = pd.concat([all_data, data], axis=1)\n",
    "all_data = all_data.T\n",
    "all_data"
   ]
  },
  {
   "cell_type": "code",
   "execution_count": 8,
   "metadata": {},
   "outputs": [
    {
     "name": "stdout",
     "output_type": "stream",
     "text": [
      "plots/across-country/Number of EdgesNumber of Vertices.png\n"
     ]
    },
    {
     "data": {
      "image/png": "[encoded data removed]",
      "text/plain": [
       "<Figure size 648x360 with 2 Axes>"
      ]
     },
     "metadata": {
      "needs_background": "light"
     },
     "output_type": "display_data"
    }
   ],
   "source": [
    "# Creating graph for number of edges and number of vertices\n",
    "\n",
    "col1 = 'Number of Edges'\n",
    "col2 = 'Number of Vertices'\n",
    "data = all_data[[col1, col2]]\n",
    "\n",
    "fig = plt.figure(figsize=(9,5)) # Create matplotlib figure\n",
    "ax = fig.add_subplot(111) # Create matplotlib axes\n",
    "ax2 = ax.twinx() # Create another axes that shares the same x-axis as ax.\n",
    "\n",
    "width = 0.4\n",
    "\n",
    "data[col1].plot(kind='bar', color='lightskyblue', ax=ax, width=width, position=1)\n",
    "data[col2].plot(kind='bar', color='orange', ax=ax2, width=width, position=0)\n",
    "\n",
    "ax.set_ylabel(col1)\n",
    "ax2.set_ylabel(col2)\n",
    "plt.title(col1 + ' and ' + col2)\n",
    "fig.legend(loc=(0.65,0.8))\n",
    "plt.tight_layout()\n",
    "\n",
    "save_path = 'plots/across-country/' + col1 + col2 + '.pdf'\n",
    "fig.savefig(save_path)\n",
    "save_path = 'plots/across-country/' + col1 + col2 + '.png'\n",
    "fig.savefig(save_path)"
   ]
  },
  {
   "cell_type": "code",
   "execution_count": 11,
   "metadata": {},
   "outputs": [
    {
     "data": {
      "image/png": "[encoded data removed]",
      "text/plain": [
       "<Figure size 648x360 with 2 Axes>"
      ]
     },
     "metadata": {
      "needs_background": "light"
     },
     "output_type": "display_data"
    }
   ],
   "source": [
    "# Creating graph for number of edges and number of vertices\n",
    "\n",
    "col1 = 'Average Degree'\n",
    "col2 = 'Average Excess Degree'\n",
    "data = all_data[[col1, col2]]\n",
    "\n",
    "fig = plt.figure(figsize=(9,5)) # Create matplotlib figure\n",
    "ax = fig.add_subplot(111) # Create matplotlib axes\n",
    "ax2 = ax.twinx() # Create another axes that shares the same x-axis as ax.\n",
    "\n",
    "width = 0.4\n",
    "\n",
    "data[col1].plot(kind='bar', color='lightskyblue', ax=ax, width=width, position=1)\n",
    "data[col2].plot(kind='bar', color='orange', ax=ax2, width=width, position=0)\n",
    "\n",
    "ax.set_ylabel(col1)\n",
    "ax2.set_ylabel(col2)\n",
    "plt.title(col1 + ' and ' + col2)\n",
    "fig.legend(loc=(0.65,0.8))\n",
    "plt.tight_layout()\n",
    "\n",
    "save_path = 'plots/across-country/' + col1 + col2 + '.pdf'\n",
    "fig.savefig(save_path)\n",
    "save_path = 'plots/across-country/' + col1 + col2 + '.png'\n",
    "fig.savefig(save_path)"
   ]
  },
  {
   "cell_type": "code",
   "execution_count": null,
   "metadata": {},
   "outputs": [],
   "source": []
  }
 ],
 "metadata": {
  "kernelspec": {
   "display_name": "Python 3",
   "language": "python",
   "name": "python3"
  },
  "language_info": {
   "codemirror_mode": {
    "name": "ipython",
    "version": 3
   },
   "file_extension": ".py",
   "mimetype": "text/x-python",
   "name": "python",
   "nbconvert_exporter": "python",
   "pygments_lexer": "ipython3",
   "version": "3.7.0"
  }
 },
 "nbformat": 4,
 "nbformat_minor": 2
}
