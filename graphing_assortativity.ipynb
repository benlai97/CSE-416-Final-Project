{
 "cells": [
  {
   "cell_type": "code",
   "execution_count": 63,
   "metadata": {},
   "outputs": [],
   "source": [
    "import pandas as pd\n",
    "import re\n",
    "import seaborn as sns\n",
    "import matplotlib.pyplot as plt"
   ]
  },
  {
   "cell_type": "code",
   "execution_count": 75,
   "metadata": {},
   "outputs": [
    {
     "data": {
      "text/html": [
       "<div>\n",
       "<style scoped>\n",
       "    .dataframe tbody tr th:only-of-type {\n",
       "        vertical-align: middle;\n",
       "    }\n",
       "\n",
       "    .dataframe tbody tr th {\n",
       "        vertical-align: top;\n",
       "    }\n",
       "\n",
       "    .dataframe thead th {\n",
       "        text-align: right;\n",
       "    }\n",
       "</style>\n",
       "<table border=\"1\" class=\"dataframe\">\n",
       "  <thead>\n",
       "    <tr style=\"text-align: right;\">\n",
       "      <th></th>\n",
       "      <th>Assortativity</th>\n",
       "    </tr>\n",
       "  </thead>\n",
       "  <tbody>\n",
       "    <tr>\n",
       "      <th>Austria</th>\n",
       "      <td>-0.443655</td>\n",
       "    </tr>\n",
       "    <tr>\n",
       "      <th>UK</th>\n",
       "      <td>-0.409526</td>\n",
       "    </tr>\n",
       "    <tr>\n",
       "      <th>US</th>\n",
       "      <td>-0.000767</td>\n",
       "    </tr>\n",
       "    <tr>\n",
       "      <th>Switzerland</th>\n",
       "      <td>0.298099</td>\n",
       "    </tr>\n",
       "    <tr>\n",
       "      <th>Denmark</th>\n",
       "      <td>0.598638</td>\n",
       "    </tr>\n",
       "    <tr>\n",
       "      <th>France</th>\n",
       "      <td>0.608509</td>\n",
       "    </tr>\n",
       "    <tr>\n",
       "      <th>Sweden</th>\n",
       "      <td>0.782377</td>\n",
       "    </tr>\n",
       "  </tbody>\n",
       "</table>\n",
       "</div>"
      ],
      "text/plain": [
       "             Assortativity\n",
       "Austria          -0.443655\n",
       "UK               -0.409526\n",
       "US               -0.000767\n",
       "Switzerland       0.298099\n",
       "Denmark           0.598638\n",
       "France            0.608509\n",
       "Sweden            0.782377"
      ]
     },
     "execution_count": 75,
     "metadata": {},
     "output_type": "execute_result"
    }
   ],
   "source": [
    "data = pd.read_csv('assortivity_summary.csv')\n",
    "ass_measures = {'Sweden': 0, 'US': 0, 'France': 0, 'Switzerland': 0, 'UK': 0, 'Denmark': 0, 'Austria': 0}\n",
    "count_measures = {'Sweden': 0, 'US': 0, 'France': 0, 'Switzerland': 0, 'UK': 0, 'Denmark': 0, 'Austria': 0}\n",
    "for count, x in enumerate(data.index):\n",
    "    ass = data.iloc[count]['Assortivity Measure']\n",
    "    if re.match(r'^net_se', x):\n",
    "        ass_measures['Sweden'] += ass\n",
    "        count_measures['Sweden'] += 1\n",
    "    elif re.match(r'^us', x):\n",
    "        ass_measures['US'] += ass\n",
    "        count_measures['US'] += 1\n",
    "    elif re.match(r'^net_fr', x):\n",
    "        ass_measures['France'] += ass\n",
    "        count_measures['France'] += 1\n",
    "    elif re.match(r'^net_ch', x):\n",
    "        ass_measures['Switzerland'] += ass\n",
    "        count_measures['Switzerland'] += 1\n",
    "    elif re.match(r'^uk', x):\n",
    "        ass_measures['UK'] += ass\n",
    "        count_measures['UK'] += 1\n",
    "    elif re.match(r'^net_dk', x):\n",
    "        ass_measures['Denmark'] += ass\n",
    "        count_measures['Denmark'] += 1\n",
    "    elif re.match(r'^net_at', x):\n",
    "        ass_measures['Austria'] += ass\n",
    "        count_measures['Austria'] += 1\n",
    "assortativity = pd.DataFrame([ass_measures[key]/count_measures[key] for key, val in ass_measures.items()],\n",
    "                            index = ['Sweden','US','France','Switzerland','UK','Denmark','Austria'],\n",
    "                            columns = ['Assortativity'])\n",
    "assortativity = assortativity.sort_values(by = ['Assortativity'])\n",
    "assortativity"
   ]
  },
  {
   "cell_type": "code",
   "execution_count": 74,
   "metadata": {},
   "outputs": [
    {
     "data": {
      "image/png": "[encoded data removed]",
      "text/plain": [
       "<Figure size 432x288 with 1 Axes>"
      ]
     },
     "metadata": {
      "needs_background": "light"
     },
     "output_type": "display_data"
    }
   ],
   "source": [
    "x = assortativity.index\n",
    "y = \"Assortativity\"\n",
    "plot = sns.barplot(x = x, y = y, data = assortativity, color = \"cadetblue\")\n",
    "plt.ylim(-1, 1)\n",
    "plt.xticks(rotation=45)\n",
    "plt.tight_layout()\n",
    "plt.title(\"Assortativity Against Countries\")\n",
    "fig = plot.get_figure()\n",
    "fig.savefig('plots/assortativity/all_countries.png')"
   ]
  },
  {
   "cell_type": "code",
   "execution_count": null,
   "metadata": {},
   "outputs": [],
   "source": []
  }
 ],
 "metadata": {
  "kernelspec": {
   "display_name": "Python 3",
   "language": "python",
   "name": "python3"
  },
  "language_info": {
   "codemirror_mode": {
    "name": "ipython",
    "version": 3
   },
   "file_extension": ".py",
   "mimetype": "text/x-python",
   "name": "python",
   "nbconvert_exporter": "python",
   "pygments_lexer": "ipython3",
   "version": "3.7.0"
  }
 },
 "nbformat": 4,
 "nbformat_minor": 2
}
