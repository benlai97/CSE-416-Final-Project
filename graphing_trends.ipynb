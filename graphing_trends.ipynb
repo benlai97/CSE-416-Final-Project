{
 "cells": [
  {
   "cell_type": "markdown",
   "metadata": {},
   "source": [
    "## Graphing Trends By Country"
   ]
  },
  {
   "cell_type": "code",
   "execution_count": 27,
   "metadata": {},
   "outputs": [],
   "source": [
    "import pandas as pd\n",
    "import os, re\n",
    "import seaborn as sns\n",
    "import matplotlib.pyplot as plt"
   ]
  },
  {
   "cell_type": "code",
   "execution_count": null,
   "metadata": {},
   "outputs": [],
   "source": [
    "dir = 'summary/'\n",
    "for file in os.listdir(dir):\n",
    "    if re.match(r'^summary.\\w*.csv$', file):\n",
    "        name = file.split('.')[1].capitalize()\n",
    "        path = dir + file\n",
    "        data = pd.read_csv(path, index_col='Name')\n",
    "        clean_data = data.sort_index()\n",
    "        clean_data.index = [re.search(r'\\d{4}-\\d{4}|\\d{3}|[A-Z]\\w+', x).group(0) for x in clean_data.index.values]\n",
    "        for count, i in enumerate(clean_data.columns):\n",
    "            y_label = list(clean_data.columns.values)[count]\n",
    "            plt.figure()\n",
    "            plot = sns.barplot(x = clean_data.index, y = y_label, \n",
    "                               data = clean_data[[i]], \n",
    "                               color = \"dodgerblue\")\n",
    "            plt.xticks(rotation=45)\n",
    "            plot_name = name + \"-\"+ y_label\n",
    "            plt.title(plot_name)\n",
    "            plt.tight_layout()\n",
    "            save_path = 'plots/stats/' + name + \"/\" + plot_name\n",
    "            fig = plot.get_figure()\n",
    "            fig.savefig(save_path)"
   ]
  },
  {
   "cell_type": "code",
   "execution_count": null,
   "metadata": {},
   "outputs": [],
   "source": []
  }
 ],
 "metadata": {
  "kernelspec": {
   "display_name": "Python 3",
   "language": "python",
   "name": "python3"
  },
  "language_info": {
   "codemirror_mode": {
    "name": "ipython",
    "version": 3
   },
   "file_extension": ".py",
   "mimetype": "text/x-python",
   "name": "python",
   "nbconvert_exporter": "python",
   "pygments_lexer": "ipython3",
   "version": "3.7.0"
  }
 },
 "nbformat": 4,
 "nbformat_minor": 2
}
