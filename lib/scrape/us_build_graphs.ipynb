{
 "cells": [
  {
   "cell_type": "code",
   "execution_count": 30,
   "metadata": {},
   "outputs": [],
   "source": [
    "import pandas as pd\n",
    "import graph_tool.all as gt"
   ]
  },
  {
   "cell_type": "code",
   "execution_count": 38,
   "metadata": {},
   "outputs": [],
   "source": [
    "import os\n",
    "from functools import reduce"
   ]
  },
  {
   "cell_type": "code",
   "execution_count": 31,
   "metadata": {},
   "outputs": [],
   "source": [
    "path = '../../data/us/raw'"
   ]
  },
  {
   "cell_type": "code",
   "execution_count": 66,
   "metadata": {},
   "outputs": [],
   "source": [
    "for session in ['113', '114', '115']:\n",
    "    # make graph\n",
    "    cosponsorships = pd.concat([pd.read_csv(os.path.join(path,session,chamber,'cosponsorships.csv'),header=None)\n",
    "                                        for chamber in os.listdir(os.path.join(path, session))])\n",
    "    g = gt.Graph(directed=False)\n",
    "    g.vp['id'] = g.add_edge_list(cosponsorships.values, hashed=True)\n",
    "    gt.remove_parallel_edges(g)\n",
    "    gt.remove_self_loops(g)\n",
    "    \n",
    "    # add property maps\n",
    "    party_df = parties[session]\n",
    "    g.vp['party'] = g.new_vp('string', party_df[party_df['bioguide_id'].isin(list(g.vp['id']))]['party'].values)\n",
    "    \n",
    "    # save\n",
    "    g.save(f'../../data/us/graphs/us.{session}.graphml')"
   ]
  },
  {
   "cell_type": "code",
   "execution_count": null,
   "metadata": {},
   "outputs": [],
   "source": []
  }
 ],
 "metadata": {
  "kernelspec": {
   "display_name": "Python 3",
   "language": "python",
   "name": "python3"
  },
  "language_info": {
   "codemirror_mode": {
    "name": "ipython",
    "version": 3
   },
   "file_extension": ".py",
   "mimetype": "text/x-python",
   "name": "python",
   "nbconvert_exporter": "python",
   "pygments_lexer": "ipython3",
   "version": "3.7.0"
  }
 },
 "nbformat": 4,
 "nbformat_minor": 2
}
