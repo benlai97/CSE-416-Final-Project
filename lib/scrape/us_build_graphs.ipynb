{
 "cells": [
  {
   "cell_type": "code",
   "execution_count": 77,
   "metadata": {},
   "outputs": [],
   "source": [
    "import numpy as np\n",
    "import pandas as pd\n",
    "import graph_tool.all as gt"
   ]
  },
  {
   "cell_type": "code",
   "execution_count": 25,
   "metadata": {},
   "outputs": [],
   "source": [
    "import os\n",
    "import json"
   ]
  },
  {
   "cell_type": "code",
   "execution_count": 3,
   "metadata": {},
   "outputs": [],
   "source": [
    "path = '../../data/us/raw'"
   ]
  },
  {
   "cell_type": "code",
   "execution_count": 84,
   "metadata": {},
   "outputs": [],
   "source": [
    "for session in ['113', '114', '115']:\n",
    "    # get edges\n",
    "    cosponsorships = pd.concat([pd.read_csv(os.path.join(path,session,chamber,'cosponsorships.csv'),header=None)\n",
    "                                        for chamber in os.listdir(os.path.join(path, session))])    \n",
    "    \n",
    "    # make graph\n",
    "    g = gt.Graph(directed=False)\n",
    "    g.vp['id'] = g.add_edge_list(cosponsorships.values, hashed=True)\n",
    "    gt.remove_parallel_edges(g)\n",
    "    gt.remove_self_loops(g)\n",
    "    \n",
    "    # add party property map\n",
    "    parties = pd.read_csv(f'{path}/legislators/terms.csv')\n",
    "    vertex_df = pd.DataFrame({'id': list(g.vp['id'])})\n",
    "    mapped_df = vertex_df.merge(parties,left_on='id', right_on='bioguide_id', how='left')\n",
    "    g.vp['party'] = g.new_vp('string', mapped_df['party'].values)\n",
    "    \n",
    "    g.save(f'../../data/us/graphs/us.{session}.graphml')"
   ]
  },
  {
   "cell_type": "code",
   "execution_count": null,
   "metadata": {},
   "outputs": [],
   "source": []
  }
 ],
 "metadata": {
  "kernelspec": {
   "display_name": "Python 3",
   "language": "python",
   "name": "python3"
  },
  "language_info": {
   "codemirror_mode": {
    "name": "ipython",
    "version": 3
   },
   "file_extension": ".py",
   "mimetype": "text/x-python",
   "name": "python",
   "nbconvert_exporter": "python",
   "pygments_lexer": "ipython3",
   "version": "3.7.0"
  }
 },
 "nbformat": 4,
 "nbformat_minor": 2
}
