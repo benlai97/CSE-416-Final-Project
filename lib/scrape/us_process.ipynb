{
 "cells": [
  {
   "cell_type": "code",
   "execution_count": 57,
   "metadata": {},
   "outputs": [],
   "source": [
    "import os\n",
    "from json import load"
   ]
  },
  {
   "cell_type": "code",
   "execution_count": 58,
   "metadata": {},
   "outputs": [],
   "source": [
    "data = '../../data/us/congress/data'\n",
    "sessions = ['113', '114', '115']"
   ]
  },
  {
   "cell_type": "code",
   "execution_count": 59,
   "metadata": {},
   "outputs": [],
   "source": [
    "bills = {}\n",
    "sponsors = {}"
   ]
  },
  {
   "cell_type": "code",
   "execution_count": 60,
   "metadata": {},
   "outputs": [],
   "source": [
    "def process_bill_json(fpath):\n",
    "    cosponsorships = []\n",
    "    with open(fpath, 'r') as f:\n",
    "        data = load(f)\n",
    "        all_sponsors = [data['sponsor']] + data['cosponsors']\n",
    "        for i, sponsor in enumerate(all_sponsors):\n",
    "            if sponsor['bioguide_id'] not in sponsors:\n",
    "                sponsors[sponsor['bioguide_id']] = sponsor\n",
    "            for cosponsor in all_sponsors[i:]:\n",
    "                if cosponsor['bioguide_id'] not in sponsors:\n",
    "                    sponsors[cosponsor['bioguide_id']] = cosponsor\n",
    "                if sponsor['bioguide_id'] != cosponsor['bioguide_id']:\n",
    "                    cosponsorships.append((sponsor['bioguide_id'], cosponsor['bioguide_id']))\n",
    "\n",
    "    return cosponsorships"
   ]
  },
  {
   "cell_type": "code",
   "execution_count": 61,
   "metadata": {},
   "outputs": [],
   "source": [
    "for session in sessions:\n",
    "    path = os.path.join(data, session)\n",
    "    for dir_ in os.listdir(path):\n",
    "        if dir_ == 'bills':\n",
    "            dir_path = os.path.join(path, dir_)\n",
    "            for type_ in os.listdir(dir_path):\n",
    "                type_path = os.path.join(dir_path, type_)\n",
    "                with open(f'../../data/us/raw/{session}/{type_[0]}/cosponsorships.csv', 'w+') as out:\n",
    "                    for dirpath, dirnames, filenames in os.walk(type_path):\n",
    "                        for file in filenames:          \n",
    "                            if file.endswith('.json'):\n",
    "                                csps = process_bill_json(os.path.join(dirpath, file))\n",
    "                                for sp, csp in csps:\n",
    "                                    out.write(f'{sp},{csp}\\n')"
   ]
  },
  {
   "cell_type": "code",
   "execution_count": 65,
   "metadata": {},
   "outputs": [],
   "source": [
    "with open('../../data/us/raw/legislators/sponsors.csv', 'w+') as f:\n",
    "    f.write('bioguide_id;name\\n')\n",
    "    for sponsor, info in sponsors.items():\n",
    "        id_ = info['bioguide_id']\n",
    "        name = info['name']\n",
    "        f.write(f'{id_};{name}\\n')"
   ]
  },
  {
   "cell_type": "code",
   "execution_count": null,
   "metadata": {},
   "outputs": [],
   "source": []
  }
 ],
 "metadata": {
  "kernelspec": {
   "display_name": "Python 3",
   "language": "python",
   "name": "python3"
  },
  "language_info": {
   "codemirror_mode": {
    "name": "ipython",
    "version": 3
   },
   "file_extension": ".py",
   "mimetype": "text/x-python",
   "name": "python",
   "nbconvert_exporter": "python",
   "pygments_lexer": "ipython3",
   "version": "3.7.0"
  }
 },
 "nbformat": 4,
 "nbformat_minor": 2
}
