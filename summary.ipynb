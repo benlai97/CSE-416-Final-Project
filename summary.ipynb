{
 "cells": [
  {
   "cell_type": "markdown",
   "metadata": {},
   "source": [
    "## Summary Data for GraphML Files"
   ]
  },
  {
   "cell_type": "code",
   "execution_count": 1,
   "metadata": {},
   "outputs": [],
   "source": [
    "import graph_tool.all as gt\n",
    "import os\n",
    "import numpy as np\n",
    "import graph_tool\n",
    "from tqdm import tqdm_notebook\n",
    "\n",
    "from lib.analysis import clustering\n",
    "from lib.analysis import dist\n",
    "from lib.analysis import model\n",
    "from lib.analysis import power\n",
    "from lib.analysis import stats"
   ]
  },
  {
   "cell_type": "code",
   "execution_count": 2,
   "metadata": {},
   "outputs": [],
   "source": [
    "data = 'data'\n",
    "ignore = ['.DS_Store', 'us']\n",
    "graphs = {}"
   ]
  },
  {
   "cell_type": "code",
   "execution_count": 3,
   "metadata": {},
   "outputs": [],
   "source": [
    "for country in [d for d in os.listdir(data) if d not in ignore]:\n",
    "    path = os.path.join(data, country)\n",
    "    for file in [f for f in os.listdir(path) if f not in ignore]:\n",
    "        if file.endswith('.graphml'):\n",
    "            fpath = os.path.join(path, file)\n",
    "            graphs[file[:-8]] = gt.load_graph(fpath)"
   ]
  },
  {
   "cell_type": "code",
   "execution_count": 4,
   "metadata": {},
   "outputs": [
    {
     "name": "stdout",
     "output_type": "stream",
     "text": [
      "net_se\n",
      "net_fr_se\n",
      "net_fr_an\n",
      "net_ch_cs\n",
      "net_ch_cn\n",
      "uk\n",
      "net_dk\n",
      "net_at\n"
     ]
    }
   ],
   "source": [
    "with open(\"summary.csv\", \"w+\") as f:\n",
    "    f.write(','.join(['Number of Edges', 'Number of Vertices',\n",
    "                      'Clustering Coefficient', 'Average Degree',\n",
    "                      'Average Excess Degree', 'Average Distance',\n",
    "                      'Size of LCC', 'Number of CC']) + '\\n')\n",
    "    for name, g in graphs.items():\n",
    "        print(name)\n",
    "        f.write(f'{name},{str(stats.summary(g))}\\n')"
   ]
  }
 ],
 "metadata": {
  "kernelspec": {
   "display_name": "Python 3",
   "language": "python",
   "name": "python3"
  },
  "language_info": {
   "codemirror_mode": {
    "name": "ipython",
    "version": 3
   },
   "file_extension": ".py",
   "mimetype": "text/x-python",
   "name": "python",
   "nbconvert_exporter": "python",
   "pygments_lexer": "ipython3",
   "version": "3.7.0"
  }
 },
 "nbformat": 4,
 "nbformat_minor": 2
}
