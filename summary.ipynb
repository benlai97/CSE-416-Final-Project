{
 "cells": [
  {
   "cell_type": "markdown",
   "metadata": {},
   "source": [
    "## Summary Data for GraphML Files"
   ]
  },
  {
   "cell_type": "code",
   "execution_count": 8,
   "metadata": {},
   "outputs": [],
   "source": [
    "import graph_tool.all as gt\n",
    "import os\n",
    "import numpy as np\n",
    "import graph_tool\n",
    "from tqdm import tqdm_notebook\n",
    "\n",
    "from lib.analysis import clustering\n",
    "from lib.analysis import centrality\n",
    "from lib.analysis import dist\n",
    "from lib.analysis import model\n",
    "from lib.analysis import power\n",
    "from lib.analysis import stats"
   ]
  },
  {
   "cell_type": "markdown",
   "metadata": {},
   "source": [
    "## Part 1: Summary Statistics\n",
    "\n",
    "Basic statistics for each country's government"
   ]
  },
  {
   "cell_type": "code",
   "execution_count": null,
   "metadata": {},
   "outputs": [],
   "source": [
    "data = 'data'\n",
    "ignore = ['.DS_Store']\n",
    "nets = {}"
   ]
  },
  {
   "cell_type": "code",
   "execution_count": 13,
   "metadata": {},
   "outputs": [],
   "source": [
    "for country in [d for d in os.listdir(data) if d not in ignore]:\n",
    "    path = os.path.join(data, country)\n",
    "    if country not in nets:\n",
    "        nets[country] = []\n",
    "    for dir_ in [f for f in os.listdir(path) if f not in ignore]:\n",
    "        if not dir_.endswith('.graphml'):\n",
    "            net_path = os.path.join(path, dir_)\n",
    "            for net in [f for f in os.listdir(net_path) if f not in ignore]:\n",
    "                if net.endswith('.graphml'):\n",
    "                    nets[country].append((net[:-8], gt.load_graph(os.path.join(net_path, net))))"
   ]
  },
  {
   "cell_type": "code",
   "execution_count": 14,
   "metadata": {},
   "outputs": [],
   "source": [
    "for country, graphs in nets.items():\n",
    "    with open(f'summary.{country}.csv', 'w+') as f:\n",
    "        f.write(','.join(['Name', 'Number of Edges', 'Number of Vertices',\n",
    "                  'Clustering Coefficient', 'Average Degree',\n",
    "                  'Average Excess Degree', 'Average Distance',\n",
    "                  'Size of LCC', 'Number of CC']) + '\\n')\n",
    "        for name, graph in graphs:\n",
    "            f.write(f'{name},{str(stats.summary(graph))}\\n')"
   ]
  },
  {
   "cell_type": "markdown",
   "metadata": {},
   "source": [
    "## Part 2: Assortivity\n",
    "\n",
    "Computes assoritivty on specified attribute for every country across years "
   ]
  },
  {
   "cell_type": "code",
   "execution_count": 13,
   "metadata": {},
   "outputs": [
    {
     "name": "stdout",
     "output_type": "stream",
     "text": [
      "sweden/net_se/\n",
      "france/net_fr_an/\n",
      "france/net_fr_se/\n",
      "switzerland/net_ch_cs/\n",
      "switzerland/net_ch_cn/\n",
      "uk/graphs/\n",
      "uk/raw/\n",
      "denmark/net_dk/\n",
      "austria/net_at/\n"
     ]
    }
   ],
   "source": [
    "individual_graphs = {}\n",
    "root = 'data/'\n",
    "countries = os.listdir(root)\n",
    "nets = [country + \"/\" + net + \"/\" for country in countries\n",
    "                            for net in os.listdir(root + country)\n",
    "                            if not net.endswith('.graphml') and net != '.DS_Store']\n",
    "for net in nets:\n",
    "    print(net)\n",
    "    for x in os.listdir(root+net):\n",
    "        if x != '.DS_Store' and x.endswith('.graphml') and x != 'raw':\n",
    "            individual_graphs[x] = gt.load_graph(root + net + x) "
   ]
  },
  {
   "cell_type": "code",
   "execution_count": 15,
   "metadata": {},
   "outputs": [
    {
     "name": "stdout",
     "output_type": "stream",
     "text": [
      "net_se2014-2018.graphml party\n",
      "net_se2010-2014.graphml party\n",
      "net_se2006-2010.graphml party\n",
      "net_se1998-2002.graphml party\n",
      "net_se2002-2006.graphml party\n",
      "net_se1988-1991.graphml party\n",
      "net_se1994-1998.graphml party\n",
      "net_se1991-1994.graphml party\n",
      "net_fr_an2007-2012.graphml party\n",
      "net_fr_an2002-2007.graphml party\n",
      "net_fr_an1986-1988.graphml party\n",
      "net_fr_an2012-2017.graphml party\n",
      "net_fr_an1997-2002.graphml party\n",
      "net_fr_se1997-2002.graphml party\n",
      "net_fr_se2012-2017.graphml party\n",
      "net_fr_se1986-1988.graphml party\n",
      "net_fr_se1988-1993.graphml party\n",
      "net_fr_se1993-1997.graphml party\n",
      "net_fr_se2002-2007.graphml party\n",
      "net_fr_se2007-2012.graphml party\n",
      "net_ch_cs1995-1999.graphml party\n",
      "net_ch_cs2003-2007.graphml party\n",
      "net_ch_cs2011-2015.graphml party\n",
      "net_ch_cs1999-2003.graphml party\n",
      "net_ch_cs2007-2011.graphml party\n",
      "net_ch_cn2003-2007.graphml party\n",
      "net_ch_cn1999-2003.graphml party\n",
      "net_ch_cn2007-2011.graphml party\n",
      "net_ch_cn2011-2015.graphml party\n",
      "net_ch_cn1995-1999.graphml party\n",
      "net_dkEconomy.graphml party\n",
      "net_dkEnvironment.graphml party\n",
      "net_dkHousing.graphml party\n",
      "net_dkCulture.graphml party\n",
      "net_dkJustice.graphml party\n",
      "net_dkImmigration.graphml party\n",
      "net_dkInstitutional.graphml party\n",
      "net_dkWelfare.graphml party\n",
      "net_dkHealth.graphml party\n",
      "net_dkAgriculture.graphml party\n",
      "net_dkForeign_Affairs.graphml party\n",
      "net_dkTechnology.graphml party\n",
      "net_dkEducation.graphml party\n",
      "net_at2008-2013.graphml party\n",
      "net_at1995-1999.graphml party\n",
      "net_at2006-2008.graphml party\n",
      "net_at1999-2002.graphml party\n",
      "net_at2013-2018.graphml party\n",
      "net_at1994-1995.graphml party\n",
      "net_at2002-2006.graphml party\n"
     ]
    }
   ],
   "source": [
    "attribute = 'party'\n",
    "label = 'party_id'\n",
    "with open(\"assortivity_summary.csv\", \"w+\") as f:\n",
    "    f.write(','.join(['Assortivity Measure']) + '\\n')\n",
    "    for name, g in individual_graphs.items():\n",
    "        if attribute in g.vertex_properties:\n",
    "            print(name, attribute)\n",
    "            g.set_directed(False)\n",
    "            gt.remove_parallel_edges(g)\n",
    "            stats.generate_party_property(g, attribute)\n",
    "            f.write(f'{name},{str(stats.assortativity_summary(g, label))}\\n')\n"
   ]
  },
  {
   "cell_type": "code",
   "execution_count": null,
   "metadata": {},
   "outputs": [],
   "source": []
  },
  {
   "cell_type": "code",
   "execution_count": 14,
   "metadata": {},
   "outputs": [
    {
     "ename": "NameError",
     "evalue": "name 'label' is not defined",
     "output_type": "error",
     "traceback": [
      "\u001b[0;31m---------------------------------------------------------------------------\u001b[0m",
      "\u001b[0;31mNameError\u001b[0m                                 Traceback (most recent call last)",
      "\u001b[0;32m<ipython-input-14-022ae1147d6d>\u001b[0m in \u001b[0;36m<module>\u001b[0;34m()\u001b[0m\n\u001b[1;32m      1\u001b[0m \u001b[0;32mfor\u001b[0m \u001b[0mname\u001b[0m\u001b[0;34m,\u001b[0m \u001b[0mg\u001b[0m \u001b[0;32min\u001b[0m \u001b[0mindividual_graphs\u001b[0m\u001b[0;34m.\u001b[0m\u001b[0mitems\u001b[0m\u001b[0;34m(\u001b[0m\u001b[0;34m)\u001b[0m\u001b[0;34m:\u001b[0m\u001b[0;34m\u001b[0m\u001b[0m\n\u001b[1;32m      2\u001b[0m     \u001b[0mname\u001b[0m \u001b[0;34m=\u001b[0m \u001b[0mname\u001b[0m\u001b[0;34m.\u001b[0m\u001b[0msplit\u001b[0m\u001b[0;34m(\u001b[0m\u001b[0;34m'.'\u001b[0m\u001b[0;34m)\u001b[0m\u001b[0;34m[\u001b[0m\u001b[0;36m0\u001b[0m\u001b[0;34m]\u001b[0m\u001b[0;34m\u001b[0m\u001b[0m\n\u001b[0;32m----> 3\u001b[0;31m     \u001b[0;32mif\u001b[0m \u001b[0mlabel\u001b[0m \u001b[0;32min\u001b[0m \u001b[0mg\u001b[0m\u001b[0;34m.\u001b[0m\u001b[0mvertex_properties\u001b[0m\u001b[0;34m:\u001b[0m\u001b[0;34m\u001b[0m\u001b[0m\n\u001b[0m\u001b[1;32m      4\u001b[0m         \u001b[0mgt\u001b[0m\u001b[0;34m.\u001b[0m\u001b[0mgraph_draw\u001b[0m\u001b[0;34m(\u001b[0m\u001b[0mg\u001b[0m\u001b[0;34m,\u001b[0m \u001b[0mvertex_fill_color\u001b[0m \u001b[0;34m=\u001b[0m \u001b[0mg\u001b[0m\u001b[0;34m.\u001b[0m\u001b[0mvertex_properties\u001b[0m\u001b[0;34m[\u001b[0m\u001b[0;34m'party_id'\u001b[0m\u001b[0;34m]\u001b[0m\u001b[0;34m,\u001b[0m \u001b[0moutput\u001b[0m \u001b[0;34m=\u001b[0m \u001b[0;34m\"assortativity_\"\u001b[0m \u001b[0;34m+\u001b[0m \u001b[0mname\u001b[0m \u001b[0;34m+\u001b[0m \u001b[0;34m\".pdf\"\u001b[0m \u001b[0;34m)\u001b[0m\u001b[0;34m\u001b[0m\u001b[0m\n",
      "\u001b[0;31mNameError\u001b[0m: name 'label' is not defined"
     ]
    }
   ],
   "source": [
    "for name, g in individual_graphs.items():\n",
    "    name = name.split('.')[0]\n",
    "    if label in g.vertex_properties:\n",
    "        gt.graph_draw(g, vertex_fill_color = g.vertex_properties['party_id'], output = \"assortativity_\" + name + \".pdf\" )"
   ]
  },
  {
   "cell_type": "markdown",
   "metadata": {},
   "source": [
    "## Part 3: Graphing Centrality"
   ]
  },
  {
   "cell_type": "code",
   "execution_count": 23,
   "metadata": {},
   "outputs": [],
   "source": [
    "# BETWEENNESS\n",
    "for name, g in individual_graphs.items():\n",
    "    name = name.split('.')[0]\n",
    "    if label in g.vertex_properties:\n",
    "        vertex, edge = centrality.betweenness(g, scale=50)\n",
    "        gt.graph_draw(g, vertex_size = vertex, edge_pen_width=edge, edge_color=edge, output=\"edge_betweenness_\" + name + \".pdf\" )"
   ]
  },
  {
   "cell_type": "code",
   "execution_count": 19,
   "metadata": {},
   "outputs": [],
   "source": [
    "# CLOSENESS\n",
    "for name, g in individual_graphs.items():\n",
    "    name = name.split('.')[0]\n",
    "    if label in g.vertex_properties:\n",
    "        vertex = centrality.closeness(g, scale=20)\n",
    "        gt.graph_draw(g, vertex_size=vertex, vertex_fill_color=vertex, edge_pen_width=0.1, output=\"vertex_closeness_\" + name + \".pdf\" )"
   ]
  },
  {
   "cell_type": "code",
   "execution_count": 29,
   "metadata": {},
   "outputs": [],
   "source": [
    "# EIGENVECTOR vertex_size=vector\n",
    "for name, g in individual_graphs.items():\n",
    "    name = name.split('.')[0]\n",
    "    if label in g.vertex_properties:\n",
    "        value, vector = centrality.eigenvector(g, scale=70)\n",
    "        gt.graph_draw(g, vertex_pen_width=1.4, vertex_fill_color=vector, edge_color='#D3D3D3', edge_pen_width=0.1, output=\"vertex_eigenvector_\" + name + \".pdf\" )"
   ]
  },
  {
   "cell_type": "code",
   "execution_count": null,
   "metadata": {},
   "outputs": [],
   "source": []
  }
 ],
 "metadata": {
  "kernelspec": {
   "display_name": "Python 3",
   "language": "python",
   "name": "python3"
  },
  "language_info": {
   "codemirror_mode": {
    "name": "ipython",
    "version": 3
   },
   "file_extension": ".py",
   "mimetype": "text/x-python",
   "name": "python",
   "nbconvert_exporter": "python",
   "pygments_lexer": "ipython3",
   "version": "3.7.0"
  }
 },
 "nbformat": 4,
 "nbformat_minor": 2
}
