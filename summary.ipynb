{
 "cells": [
  {
   "cell_type": "markdown",
   "metadata": {},
   "source": [
    "## Summary Data for GraphML Files"
   ]
  },
  {
   "cell_type": "code",
   "execution_count": 1,
   "metadata": {},
   "outputs": [],
   "source": [
    "import graph_tool.all as gt\n",
    "import os\n",
    "import numpy as np\n",
    "import graph_tool\n",
    "from tqdm import tqdm_notebook\n",
    "\n",
    "from lib.analysis import clustering\n",
    "from lib.analysis import dist\n",
    "from lib.analysis import model\n",
    "from lib.analysis import power\n",
    "from lib.analysis import stats"
   ]
  },
  {
   "cell_type": "markdown",
   "metadata": {},
   "source": [
    "## Part 1: Summary Statistics\n",
    "\n",
    "Basic statistics for each country's government"
   ]
  },
  {
   "cell_type": "code",
   "execution_count": 2,
   "metadata": {},
   "outputs": [],
   "source": [
    "data = 'data'\n",
    "ignore = ['.DS_Store', 'us']\n",
    "graphs = {}"
   ]
  },
  {
   "cell_type": "code",
   "execution_count": 3,
   "metadata": {},
   "outputs": [],
   "source": [
    "for country in [d for d in os.listdir(data) if d not in ignore]:\n",
    "    path = os.path.join(data, country)\n",
    "    for file in [f for f in os.listdir(path) if f not in ignore]:\n",
    "        if file.endswith('.graphml'):\n",
    "            fpath = os.path.join(path, file)\n",
    "            graphs[file[:-8]] = gt.load_graph(fpath)"
   ]
  },
  {
   "cell_type": "code",
   "execution_count": null,
   "metadata": {},
   "outputs": [
    {
     "name": "stdout",
     "output_type": "stream",
     "text": [
      "net_se\n"
     ]
    }
   ],
   "source": [
    "with open(\"summary.csv\", \"w+\") as f:\n",
    "    f.write(','.join(['Number of Edges', 'Number of Vertices',\n",
    "                      'Clustering Coefficient', 'Average Degree',\n",
    "                      'Average Excess Degree', 'Average Distance',\n",
    "                      'Size of LCC', 'Number of CC']) + '\\n')\n",
    "    for name, g in graphs.items():\n",
    "        print(name)\n",
    "        f.write(f'{name},{str(stats.summary(g))}\\n')"
   ]
  },
  {
   "cell_type": "markdown",
   "metadata": {},
   "source": [
    "## Part 2: Assortivity\n",
    "\n",
    "Computes assoritivty on specified attribute for every country across years "
   ]
  },
  {
   "cell_type": "code",
   "execution_count": 2,
   "metadata": {},
   "outputs": [],
   "source": [
    "individual_graphs = {}\n",
    "root = '/Users/benjaminlai/Desktop/CSE-416-Final-Project/data/'\n",
    "countries = os.listdir(root)\n",
    "nets = [country + \"/\" + net + \"/\" for country in countries\n",
    "                            for net in os.listdir(root + country)\n",
    "                            if not net.endswith('.graphml')]\n",
    "for net in nets:\n",
    "    for x in os.listdir(root+net):\n",
    "        if x.endswith('.graphml'):\n",
    "            individual_graphs[x] = gt.load_graph(root + net + x) "
   ]
  },
  {
   "cell_type": "code",
   "execution_count": 31,
   "metadata": {},
   "outputs": [
    {
     "ename": "RuntimeError",
     "evalue": "No static implementation was found for the desired routine. This is a graph_tool bug. :-( Please submit a bug report at http://graph-tool.skewed.de/issues. What follows is debug information.\n\nAction: std::__1::__bind<graph_tool::get_assortativity_coefficient, std::__1::placeholders::__ph<1> const&, std::__1::placeholders::__ph<2> const&, std::__1::reference_wrapper<double>, std::__1::reference_wrapper<double> >\n\nArg 1: std::__1::reference_wrapper<boost::undirected_adaptor<boost::adj_list<unsigned long> > >\n\nArg 2: graph_tool::scalarS<boost::checked_vector_property_map<std::__1::basic_string<char, std::__1::char_traits<char>, std::__1::allocator<char> >, boost::typed_identity_property_map<unsigned long> > >\n\n",
     "output_type": "error",
     "traceback": [
      "\u001b[0;31m---------------------------------------------------------------------------\u001b[0m",
      "\u001b[0;31mRuntimeError\u001b[0m                              Traceback (most recent call last)",
      "\u001b[0;32m<ipython-input-31-ae545fa0a33d>\u001b[0m in \u001b[0;36m<module>\u001b[0;34m()\u001b[0m\n\u001b[1;32m     11\u001b[0m             \u001b[0mstats\u001b[0m\u001b[0;34m.\u001b[0m\u001b[0mgenerate_party_property\u001b[0m\u001b[0;34m(\u001b[0m\u001b[0mg\u001b[0m\u001b[0;34m,\u001b[0m \u001b[0mattribute\u001b[0m\u001b[0;34m)\u001b[0m\u001b[0;34m\u001b[0m\u001b[0m\n\u001b[1;32m     12\u001b[0m \u001b[0;31m#             print(g.vertex_properties['party_id'])\u001b[0m\u001b[0;34m\u001b[0m\u001b[0;34m\u001b[0m\u001b[0m\n\u001b[0;32m---> 13\u001b[0;31m             \u001b[0mf\u001b[0m\u001b[0;34m.\u001b[0m\u001b[0mwrite\u001b[0m\u001b[0;34m(\u001b[0m\u001b[0;34mf'{name},{str(stats.assortativity_summary(g, attribute))}\\n'\u001b[0m\u001b[0;34m)\u001b[0m\u001b[0;34m\u001b[0m\u001b[0m\n\u001b[0m\u001b[1;32m     14\u001b[0m \u001b[0;31m# individual_graphs['net_fr_an1988-1993.graphml'].vertex_properties['g']\u001b[0m\u001b[0;34m\u001b[0m\u001b[0;34m\u001b[0m\u001b[0m\n",
      "\u001b[0;32m~/Desktop/CSE-416-Final-Project/lib/analysis/stats.py\u001b[0m in \u001b[0;36massortativity_summary\u001b[0;34m(g, label)\u001b[0m\n\u001b[1;32m     23\u001b[0m \u001b[0;32mdef\u001b[0m \u001b[0massortativity_summary\u001b[0m\u001b[0;34m(\u001b[0m\u001b[0mg\u001b[0m\u001b[0;34m:\u001b[0m \u001b[0mgt\u001b[0m\u001b[0;34m.\u001b[0m\u001b[0mGraph\u001b[0m\u001b[0;34m,\u001b[0m \u001b[0mlabel\u001b[0m\u001b[0;34m:\u001b[0m \u001b[0mstr\u001b[0m\u001b[0;34m)\u001b[0m\u001b[0;34m:\u001b[0m\u001b[0;34m\u001b[0m\u001b[0m\n\u001b[1;32m     24\u001b[0m     \u001b[0;34m'''Returns a summary of graph assortivity on given label'''\u001b[0m\u001b[0;34m\u001b[0m\u001b[0m\n\u001b[0;32m---> 25\u001b[0;31m     \u001b[0mcoeff\u001b[0m \u001b[0;34m=\u001b[0m \u001b[0massortativity\u001b[0m\u001b[0;34m(\u001b[0m\u001b[0mg\u001b[0m\u001b[0;34m,\u001b[0m \u001b[0mg\u001b[0m\u001b[0;34m.\u001b[0m\u001b[0mvertex_properties\u001b[0m\u001b[0;34m[\u001b[0m\u001b[0mlabel\u001b[0m\u001b[0;34m]\u001b[0m\u001b[0;34m)\u001b[0m\u001b[0;34m\u001b[0m\u001b[0m\n\u001b[0m\u001b[1;32m     26\u001b[0m     data = {\n\u001b[1;32m     27\u001b[0m     \u001b[0;34m'Assortivity on: '\u001b[0m \u001b[0;34m+\u001b[0m \u001b[0mlabel\u001b[0m\u001b[0;34m:\u001b[0m \u001b[0mcoeff\u001b[0m\u001b[0;34m,\u001b[0m\u001b[0;34m\u001b[0m\u001b[0m\n",
      "\u001b[0;32m~/Desktop/CSE-416-Final-Project/lib/analysis/stats.py\u001b[0m in \u001b[0;36massortativity\u001b[0;34m(g, attribute_map)\u001b[0m\n\u001b[1;32m     18\u001b[0m \u001b[0;34m\u001b[0m\u001b[0m\n\u001b[1;32m     19\u001b[0m \u001b[0;32mdef\u001b[0m \u001b[0massortativity\u001b[0m\u001b[0;34m(\u001b[0m\u001b[0mg\u001b[0m\u001b[0;34m:\u001b[0m \u001b[0mgt\u001b[0m\u001b[0;34m.\u001b[0m\u001b[0mGraph\u001b[0m\u001b[0;34m,\u001b[0m \u001b[0mattribute_map\u001b[0m\u001b[0;34m:\u001b[0m \u001b[0mgt\u001b[0m\u001b[0;34m.\u001b[0m\u001b[0mPropertyMap\u001b[0m\u001b[0;34m)\u001b[0m \u001b[0;34m->\u001b[0m \u001b[0mnp\u001b[0m\u001b[0;34m.\u001b[0m\u001b[0mfloat\u001b[0m\u001b[0;34m:\u001b[0m\u001b[0;34m\u001b[0m\u001b[0m\n\u001b[0;32m---> 20\u001b[0;31m     \u001b[0mcoeff\u001b[0m\u001b[0;34m,\u001b[0m \u001b[0m_\u001b[0m \u001b[0;34m=\u001b[0m \u001b[0mgt\u001b[0m\u001b[0;34m.\u001b[0m\u001b[0massortativity\u001b[0m\u001b[0;34m(\u001b[0m\u001b[0mg\u001b[0m\u001b[0;34m,\u001b[0m \u001b[0mattribute_map\u001b[0m\u001b[0;34m)\u001b[0m\u001b[0;34m\u001b[0m\u001b[0m\n\u001b[0m\u001b[1;32m     21\u001b[0m     \u001b[0;32mreturn\u001b[0m \u001b[0mcoeff\u001b[0m\u001b[0;34m\u001b[0m\u001b[0m\n\u001b[1;32m     22\u001b[0m \u001b[0;34m\u001b[0m\u001b[0m\n",
      "\u001b[0;32m/usr/local/lib/python3.7/site-packages/graph_tool/correlations/__init__.py\u001b[0m in \u001b[0;36massortativity\u001b[0;34m(g, deg)\u001b[0m\n\u001b[1;32m    115\u001b[0m     \"\"\"\n\u001b[1;32m    116\u001b[0m     \u001b[0;32mreturn\u001b[0m \u001b[0mlibgraph_tool_correlations\u001b[0m\u001b[0;34m.\u001b[0m\u001b[0;31m\\\u001b[0m\u001b[0;34m\u001b[0m\u001b[0m\n\u001b[0;32m--> 117\u001b[0;31m            \u001b[0massortativity_coefficient\u001b[0m\u001b[0;34m(\u001b[0m\u001b[0mg\u001b[0m\u001b[0;34m.\u001b[0m\u001b[0m_Graph__graph\u001b[0m\u001b[0;34m,\u001b[0m \u001b[0m_degree\u001b[0m\u001b[0;34m(\u001b[0m\u001b[0mg\u001b[0m\u001b[0;34m,\u001b[0m \u001b[0mdeg\u001b[0m\u001b[0;34m)\u001b[0m\u001b[0;34m)\u001b[0m\u001b[0;34m\u001b[0m\u001b[0m\n\u001b[0m\u001b[1;32m    118\u001b[0m \u001b[0;34m\u001b[0m\u001b[0m\n\u001b[1;32m    119\u001b[0m \u001b[0;34m\u001b[0m\u001b[0m\n",
      "\u001b[0;31mRuntimeError\u001b[0m: No static implementation was found for the desired routine. This is a graph_tool bug. :-( Please submit a bug report at http://graph-tool.skewed.de/issues. What follows is debug information.\n\nAction: std::__1::__bind<graph_tool::get_assortativity_coefficient, std::__1::placeholders::__ph<1> const&, std::__1::placeholders::__ph<2> const&, std::__1::reference_wrapper<double>, std::__1::reference_wrapper<double> >\n\nArg 1: std::__1::reference_wrapper<boost::undirected_adaptor<boost::adj_list<unsigned long> > >\n\nArg 2: graph_tool::scalarS<boost::checked_vector_property_map<std::__1::basic_string<char, std::__1::char_traits<char>, std::__1::allocator<char> >, boost::typed_identity_property_map<unsigned long> > >\n\n"
     ]
    }
   ],
   "source": [
    "attribute = 'party'\n",
    "with open(\"assortivity_summary.csv\", \"w+\") as f:\n",
    "    f.write(','.join(['Assortivity Measure']) + '\\n')\n",
    "    for name, g in individual_graphs.items():\n",
    "        if attribute in g.vertex_properties:\n",
    "#             print(name)\n",
    "            g.set_directed(False)\n",
    "            gt.remove_parallel_edges(g)\n",
    "            if attribute not in g.vertex_properties:\n",
    "                attribute = \"g\"\n",
    "            stats.generate_party_property(g, attribute)\n",
    "#             f.write(f'{name},{str(stats.assortativity_summary(g, attribute))}\\n')\n"
   ]
  },
  {
   "cell_type": "code",
   "execution_count": null,
   "metadata": {},
   "outputs": [],
   "source": []
  }
 ],
 "metadata": {
  "kernelspec": {
   "display_name": "Python 3",
   "language": "python",
   "name": "python3"
  },
  "language_info": {
   "codemirror_mode": {
    "name": "ipython",
    "version": 3
   },
   "file_extension": ".py",
   "mimetype": "text/x-python",
   "name": "python",
   "nbconvert_exporter": "python",
   "pygments_lexer": "ipython3",
   "version": "3.7.0"
  }
 },
 "nbformat": 4,
 "nbformat_minor": 2
}
