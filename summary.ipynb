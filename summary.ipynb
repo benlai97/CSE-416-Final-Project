{
 "cells": [
  {
   "cell_type": "markdown",
   "metadata": {},
   "source": [
    "## Summary Data for GraphML Files"
   ]
  },
  {
   "cell_type": "code",
   "execution_count": 1,
   "metadata": {},
   "outputs": [],
   "source": [
    "import graph_tool.all as gt\n",
    "import os\n",
    "import numpy as np\n",
    "import graph_tool\n",
    "from tqdm import tqdm_notebook\n",
    "\n",
    "from lib.analysis import clustering\n",
    "from lib.analysis import dist\n",
    "from lib.analysis import model\n",
    "from lib.analysis import power\n",
    "from lib.analysis import stats"
   ]
  },
  {
   "cell_type": "markdown",
   "metadata": {},
   "source": [
    "## Part 1: Summary Statistics\n",
    "\n",
    "Basic statistics for each country's government"
   ]
  },
  {
   "cell_type": "code",
   "execution_count": 2,
   "metadata": {},
   "outputs": [],
   "source": [
    "data = 'data'\n",
    "ignore = ['.DS_Store', 'us']\n",
    "graphs = {}"
   ]
  },
  {
   "cell_type": "code",
   "execution_count": 3,
   "metadata": {},
   "outputs": [],
   "source": [
    "for country in [d for d in os.listdir(data) if d not in ignore]:\n",
    "    path = os.path.join(data, country)\n",
    "    for file in [f for f in os.listdir(path) if f not in ignore]:\n",
    "        if file.endswith('.graphml'):\n",
    "            fpath = os.path.join(path, file)\n",
    "            graphs[file[:-8]] = gt.load_graph(fpath)"
   ]
  },
  {
   "cell_type": "code",
   "execution_count": null,
   "metadata": {},
   "outputs": [
    {
     "name": "stdout",
     "output_type": "stream",
     "text": [
      "net_se\n"
     ]
    }
   ],
   "source": [
    "with open(\"summary.csv\", \"w+\") as f:\n",
    "    f.write(','.join(['Number of Edges', 'Number of Vertices',\n",
    "                      'Clustering Coefficient', 'Average Degree',\n",
    "                      'Average Excess Degree', 'Average Distance',\n",
    "                      'Size of LCC', 'Number of CC']) + '\\n')\n",
    "    for name, g in graphs.items():\n",
    "        print(name)\n",
    "        f.write(f'{name},{str(stats.summary(g))}\\n')"
   ]
  },
  {
   "cell_type": "markdown",
   "metadata": {},
   "source": [
    "## Part 2: Assortivity\n",
    "\n",
    "Computes assoritivty on specified attribute for every country across years "
   ]
  },
  {
   "cell_type": "code",
   "execution_count": 4,
   "metadata": {},
   "outputs": [],
   "source": [
    "individual_graphs = {}\n",
    "\n",
    "root = '/Users/benjaminlai/Desktop/CSE-416-Final-Project/data/'\n",
    "countries = os.listdir(root)\n",
    "nets = [country + \"/\" + net + \"/\" for country in countries\n",
    "                            for net in os.listdir(root + country)\n",
    "                            if not net.endswith('.graphml')]\n",
    "\n",
    "for net in nets:\n",
    "    for x in os.listdir(root+net):\n",
    "        if x.endswith('.graphml'):\n",
    "            individual_graphs[x] = gt.load_graph(root + net + x) "
   ]
  },
  {
   "cell_type": "code",
   "execution_count": 9,
   "metadata": {},
   "outputs": [],
   "source": [
    "with open(\"assortivity_summary.csv\", \"w+\") as f:\n",
    "    f.write(','.join(['Assortivity Measure']) + '\\n')\n",
    "    for name, g in individual_graphs.items():\n",
    "        if g.vertex_properties.keys():\n",
    "            # NOTE: most graphs do not have property maps for keys, don't know why\n",
    "            attribute = \"g\"\n",
    "            f.write(f'{name},{str(stats.assortativity_summary(g, attribute))}\\n')"
   ]
  }
 ],
 "metadata": {
  "kernelspec": {
   "display_name": "Python 3",
   "language": "python",
   "name": "python3"
  },
  "language_info": {
   "codemirror_mode": {
    "name": "ipython",
    "version": 3
   },
   "file_extension": ".py",
   "mimetype": "text/x-python",
   "name": "python",
   "nbconvert_exporter": "python",
   "pygments_lexer": "ipython3",
   "version": "3.7.0"
  }
 },
 "nbformat": 4,
 "nbformat_minor": 2
}
