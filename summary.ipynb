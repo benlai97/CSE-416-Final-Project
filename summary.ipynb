{
 "cells": [
  {
   "cell_type": "markdown",
   "metadata": {},
   "source": [
    "## Summary Data for GraphML Files"
   ]
  },
  {
   "cell_type": "code",
   "execution_count": null,
   "metadata": {},
   "outputs": [],
   "source": [
    "import graph_tool.all as gt\n",
    "import os\n",
    "import re\n",
    "import numpy as np\n",
    "import graph_tool\n",
    "\n",
    "from lib.analysis import clustering\n",
    "from lib.analysis import centrality\n",
    "from lib.analysis import dist\n",
    "from lib.analysis import model\n",
    "from lib.analysis import power\n",
    "from lib.analysis import stats"
   ]
  },
  {
   "cell_type": "markdown",
   "metadata": {},
   "source": [
    "## Part 1: Summary Statistics\n",
    "\n",
    "Basic statistics for each country's government"
   ]
  },
  {
   "cell_type": "code",
   "execution_count": null,
   "metadata": {},
   "outputs": [],
   "source": [
    "data = 'data'\n",
    "ignore = ['.DS_Store']\n",
    "nets = {}"
   ]
  },
  {
   "cell_type": "code",
   "execution_count": 16,
   "metadata": {},
   "outputs": [],
   "source": [
    "for country in [d for d in os.listdir(data) if d not in ignore]:\n",
    "    path = os.path.join(data, country)\n",
    "    if country not in nets:\n",
    "        nets[country] = []\n",
    "    for dir_ in [f for f in os.listdir(path) if f not in ignore]:\n",
    "        if not dir_.endswith('.graphml'):\n",
    "            net_path = os.path.join(path, dir_)\n",
    "            for net in [f for f in os.listdir(net_path) if f not in ignore]:\n",
    "                if net.endswith('.graphml'):\n",
    "                    g = gt.load_graph(os.path.join(net_path, net))\n",
    "                    g.set_directed(False)\n",
    "                    gt.remove_parallel_edges(g)\n",
    "                    gt.remove_self_loops(g)\n",
    "                    nets[country].append((net[:-8], g))"
   ]
  },
  {
   "cell_type": "code",
   "execution_count": 17,
   "metadata": {},
   "outputs": [],
   "source": [
    "for country, graphs in nets.items():\n",
    "    with open(f'summary/summary.{country}.csv', 'w') as f:\n",
    "        f.write(','.join(['Name', 'Number of Edges', 'Number of Vertices',\n",
    "                  'Clustering Coefficient', 'Average Degree',\n",
    "                  'Average Excess Degree', 'Average Distance',\n",
    "                  'Size of LCC', 'Number of CC']) + '\\n')\n",
    "        for name, graph in graphs:\n",
    "            f.write(f'{name},{str(stats.summary(graph))}\\n')"
   ]
  },
  {
   "cell_type": "markdown",
   "metadata": {},
   "source": [
    "## Part 2: Assortivity\n",
    "\n",
    "Computes assoritivty on specified attribute for every country across years "
   ]
  },
  {
   "cell_type": "code",
   "execution_count": 6,
   "metadata": {},
   "outputs": [],
   "source": [
    "individual_graphs = {}\n",
    "root = 'data/'\n",
    "countries = os.listdir(root)\n",
    "nets = [country + \"/\" + net + \"/\" for country in countries\n",
    "                            for net in os.listdir(root + country)\n",
    "                            if not net.endswith('.graphml') and net != '.DS_Store']\n",
    "for net in nets:\n",
    "    country = re.search(r'^(\\w+)/',net).group(1)\n",
    "    for x in os.listdir(root+net):\n",
    "        if x != '.DS_Store' and x.endswith('.graphml') and x != 'raw':\n",
    "            individual_graphs[x] = (country, gt.load_graph(root + net + x))"
   ]
  },
  {
   "cell_type": "code",
   "execution_count": 7,
   "metadata": {},
   "outputs": [
    {
     "name": "stdout",
     "output_type": "stream",
     "text": [
      "net_se2014-2018.graphml\n",
      "net_se2010-2014.graphml\n",
      "net_se2006-2010.graphml\n",
      "net_se1998-2002.graphml\n",
      "net_se2002-2006.graphml\n",
      "net_se1988-1991.graphml\n",
      "net_se1994-1998.graphml\n",
      "net_se1991-1994.graphml\n",
      "us.115.graphml\n",
      "us.114.graphml\n",
      "us.113.graphml\n",
      "net_fr_an2007-2012.graphml\n",
      "net_fr_an2002-2007.graphml\n",
      "net_fr_an1988-1993.graphml\n",
      "net_fr_an1986-1988.graphml\n",
      "net_fr_an2012-2017.graphml\n",
      "net_fr_an1997-2002.graphml\n",
      "net_fr_se1997-2002.graphml\n",
      "net_fr_se2012-2017.graphml\n",
      "net_fr_se1986-1988.graphml\n",
      "net_fr_se1988-1993.graphml\n",
      "net_fr_se1993-1997.graphml\n",
      "net_fr_se2002-2007.graphml\n",
      "net_fr_se2007-2012.graphml\n",
      "net_ch_cs1995-1999.graphml\n",
      "net_ch_cs2003-2007.graphml\n",
      "net_ch_cs2011-2015.graphml\n",
      "net_ch_cs1999-2003.graphml\n",
      "net_ch_cs2007-2011.graphml\n",
      "net_ch_cn2003-2007.graphml\n",
      "net_ch_cn1999-2003.graphml\n",
      "net_ch_cn2007-2011.graphml\n",
      "net_ch_cn2011-2015.graphml\n",
      "net_ch_cn1995-1999.graphml\n",
      "uk.graphml\n",
      "net_dkEconomy.graphml\n",
      "net_dkEnvironment.graphml\n",
      "net_dkHousing.graphml\n",
      "net_dkCulture.graphml\n",
      "net_dkJustice.graphml\n",
      "net_dkImmigration.graphml\n",
      "net_dkInstitutional.graphml\n",
      "net_dkWelfare.graphml\n",
      "net_dkHealth.graphml\n",
      "net_dkAgriculture.graphml\n",
      "net_dkForeign_Affairs.graphml\n",
      "net_dkTechnology.graphml\n",
      "net_dkEducation.graphml\n",
      "net_at2008-2013.graphml\n",
      "net_at1995-1999.graphml\n",
      "net_at2006-2008.graphml\n",
      "net_at1999-2002.graphml\n",
      "net_at2013-2018.graphml\n",
      "net_at1994-1995.graphml\n",
      "net_at2002-2006.graphml\n"
     ]
    }
   ],
   "source": [
    "attribute = 'party'\n",
    "label = 'party_id'\n",
    "with open(\"assortivity_summary.csv\", \"w+\") as f:\n",
    "    f.write(','.join(['Assortivity Measure']) + '\\n')\n",
    "    for name, (country, g) in individual_graphs.items():\n",
    "        print(name)\n",
    "        if attribute in g.vertex_properties:\n",
    "            g.set_directed(False)\n",
    "            gt.remove_parallel_edges(g)\n",
    "            stats.generate_party_property(g, attribute)\n",
    "            f.write(f'{name},{str(stats.assortativity_summary(g, label))}\\n')"
   ]
  },
  {
   "cell_type": "code",
   "execution_count": 8,
   "metadata": {},
   "outputs": [],
   "source": [
    "for name, (country, g) in individual_graphs.items():\n",
    "    name = name[:-8]\n",
    "    if label in g.vertex_properties:\n",
    "        gt.graph_draw(g, vertex_fill_color=g.vertex_properties['party_id'],\n",
    "                      edge_color='#00000050', output=f'plots/graph/{country}/assortativity/assortativity_{name}.png')"
   ]
  },
  {
   "cell_type": "markdown",
   "metadata": {},
   "source": [
    "## Part 3: Graphing Centrality"
   ]
  },
  {
   "cell_type": "code",
   "execution_count": 9,
   "metadata": {},
   "outputs": [],
   "source": [
    "# # BETWEENNESS\n",
    "# for name, (country, g) in individual_graphs.items():\n",
    "#     name = name[:-8]\n",
    "#     if label in g.vertex_properties:\n",
    "#         vertex, edge = centrality.betweenness(g, scale=50)\n",
    "#         gt.graph_draw(g, vertex_size=vertex, edge_pen_width=edge,\n",
    "#                       edge_color=edge, output=f'plots/graph/{country}/betweenness/betweenness_{name}.pdf')"
   ]
  },
  {
   "cell_type": "code",
   "execution_count": 10,
   "metadata": {},
   "outputs": [],
   "source": [
    "# BETWEENNESS Vertex\n",
    "for name, (country, g) in individual_graphs.items():\n",
    "    name = name[:-8]\n",
    "    if label in g.vertex_properties:\n",
    "        vertex, _ = centrality.betweenness(g, scale=100)\n",
    "        vertex = g.new_vp('float', vertex.a + 5)\n",
    "        threshold = vertex.a[np.argsort(vertex.a)[-int(g.num_vertices() * 0.03)]]\n",
    "        top5p = vertex.a > threshold\n",
    "        top5p = g.new_vp('boolean', top5p)\n",
    "        gt.graph_draw(g, vertex_size=vertex, vertex_fill_color=top5p,#edge_pen_width=edge,\n",
    "                      edge_color='#00000050', output=f'plots/graph/{country}/betweenness/betweenness_{name}.png')"
   ]
  },
  {
   "cell_type": "code",
   "execution_count": 11,
   "metadata": {},
   "outputs": [],
   "source": [
    "# CLOSENESS\n",
    "for name, (country, g) in individual_graphs.items():\n",
    "    name = name[:-8]\n",
    "    if label in g.vertex_properties:\n",
    "        vertex = centrality.closeness(g, scale=20)\n",
    "        gt.graph_draw(g, vertex_size=vertex, vertex_fill_color=vertex,\n",
    "                      edge_pen_width=0.1, edge_color='#00000050',\n",
    "                      output=f'plots/graph/{country}/closeness/closeness_{name}.png')"
   ]
  },
  {
   "cell_type": "code",
   "execution_count": 12,
   "metadata": {},
   "outputs": [],
   "source": [
    "# EIGENVECTOR vertex_size=vector\n",
    "for name, (country, g) in individual_graphs.items():\n",
    "    name = name[:-8]\n",
    "    if label in g.vertex_properties:\n",
    "        value, vector = centrality.eigenvector(g, scale=70)\n",
    "        gt.graph_draw(g, vertex_pen_width=1.4, vertex_fill_color=vector,\n",
    "                      edge_color='#00000050', edge_pen_width=0.1,\n",
    "                      output=f'plots/graph/{country}/eigenvector/eigenvector_{name}.png')"
   ]
  },
  {
   "cell_type": "code",
   "execution_count": null,
   "metadata": {},
   "outputs": [],
   "source": []
  }
 ],
 "metadata": {
  "kernelspec": {
   "display_name": "Python 3",
   "language": "python",
   "name": "python3"
  },
  "language_info": {
   "codemirror_mode": {
    "name": "ipython",
    "version": 3
   },
   "file_extension": ".py",
   "mimetype": "text/x-python",
   "name": "python",
   "nbconvert_exporter": "python",
   "pygments_lexer": "ipython3",
   "version": "3.7.0"
  }
 },
 "nbformat": 4,
 "nbformat_minor": 2
}
