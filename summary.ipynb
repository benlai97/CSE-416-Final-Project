{
 "cells": [
  {
   "cell_type": "markdown",
   "metadata": {},
   "source": [
    "## Summary Data for GraphML Files"
   ]
  },
  {
   "cell_type": "code",
   "execution_count": 4,
   "metadata": {},
   "outputs": [],
   "source": [
    "import graph_tool.all as gt\n",
    "import os\n",
    "import re\n",
    "import numpy as np\n",
    "import graph_tool\n",
    "from tqdm import tqdm_notebook\n",
    "\n",
    "from lib.analysis import clustering\n",
    "from lib.analysis import centrality\n",
    "from lib.analysis import dist\n",
    "from lib.analysis import model\n",
    "from lib.analysis import power\n",
    "from lib.analysis import stats"
   ]
  },
  {
   "cell_type": "markdown",
   "metadata": {},
   "source": [
    "## Part 1: Summary Statistics\n",
    "\n",
    "Basic statistics for each country's government"
   ]
  },
  {
   "cell_type": "code",
   "execution_count": null,
   "metadata": {},
   "outputs": [],
   "source": [
    "data = 'data'\n",
    "ignore = ['.DS_Store']\n",
    "nets = {}"
   ]
  },
  {
   "cell_type": "code",
   "execution_count": 13,
   "metadata": {},
   "outputs": [],
   "source": [
    "for country in [d for d in os.listdir(data) if d not in ignore]:\n",
    "    path = os.path.join(data, country)\n",
    "    if country not in nets:\n",
    "        nets[country] = []\n",
    "    for dir_ in [f for f in os.listdir(path) if f not in ignore]:\n",
    "        if not dir_.endswith('.graphml'):\n",
    "            net_path = os.path.join(path, dir_)\n",
    "            for net in [f for f in os.listdir(net_path) if f not in ignore]:\n",
    "                if net.endswith('.graphml'):\n",
    "                    nets[country].append((net[:-8], gt.load_graph(os.path.join(net_path, net))))"
   ]
  },
  {
   "cell_type": "code",
   "execution_count": 14,
   "metadata": {},
   "outputs": [],
   "source": [
    "for country, graphs in nets.items():\n",
    "    with open(f'summary.{country}.csv', 'w+') as f:\n",
    "        f.write(','.join(['Name', 'Number of Edges', 'Number of Vertices',\n",
    "                  'Clustering Coefficient', 'Average Degree',\n",
    "                  'Average Excess Degree', 'Average Distance',\n",
    "                  'Size of LCC', 'Number of CC']) + '\\n')\n",
    "        for name, graph in graphs:\n",
    "            f.write(f'{name},{str(stats.summary(graph))}\\n')"
   ]
  },
  {
   "cell_type": "markdown",
   "metadata": {},
   "source": [
    "## Part 2: Assortivity\n",
    "\n",
    "Computes assoritivty on specified attribute for every country across years "
   ]
  },
  {
   "cell_type": "code",
   "execution_count": 9,
   "metadata": {},
   "outputs": [],
   "source": [
    "individual_graphs = {}\n",
    "root = 'data/'\n",
    "countries = os.listdir(root)\n",
    "nets = [country + \"/\" + net + \"/\" for country in countries\n",
    "                            for net in os.listdir(root + country)\n",
    "                            if not net.endswith('.graphml') and net != '.DS_Store']\n",
    "for net in nets:\n",
    "    country = re.search(r'^(\\w+)/',net).group(1)\n",
    "    for x in os.listdir(root+net):\n",
    "        if x != '.DS_Store' and x.endswith('.graphml') and x != 'raw':\n",
    "            individual_graphs[x] = (country, gt.load_graph(root + net + x))"
   ]
  },
  {
   "cell_type": "code",
   "execution_count": null,
   "metadata": {},
   "outputs": [],
   "source": [
    "attribute = 'party'\n",
    "label = 'party_id'\n",
    "with open(\"assortivity_summary.csv\", \"w+\") as f:\n",
    "    f.write(','.join(['Assortivity Measure']) + '\\n')\n",
    "    for name, (country, g) in individual_graphs.items():\n",
    "        print(name)\n",
    "        if attribute in g.vertex_properties:\n",
    "            g.set_directed(False)\n",
    "            gt.remove_parallel_edges(g)\n",
    "            stats.generate_party_property(g, attribute)\n",
    "            f.write(f'{name},{str(stats.assortativity_summary(g, label))}\\n')"
   ]
  },
  {
   "cell_type": "code",
   "execution_count": 14,
   "metadata": {},
   "outputs": [],
   "source": [
    "for name, (country, g) in individual_graphs.items():\n",
    "    name = name[:-8]\n",
    "    if label in g.vertex_properties:\n",
    "        gt.graph_draw(g, vertex_fill_color=g.vertex_properties['party_id'],\n",
    "                      edge_color='#94949450', output=f'plots/graph/{country}/assortativity/assortativity_{name}.pdf')"
   ]
  },
  {
   "cell_type": "markdown",
   "metadata": {},
   "source": [
    "## Part 3: Graphing Centrality"
   ]
  },
  {
   "cell_type": "code",
   "execution_count": 15,
   "metadata": {},
   "outputs": [],
   "source": [
    "# # BETWEENNESS\n",
    "# for name, (country, g) in individual_graphs.items():\n",
    "#     name = name[:-8]\n",
    "#     if label in g.vertex_properties:\n",
    "#         vertex, edge = centrality.betweenness(g, scale=50)\n",
    "#         gt.graph_draw(g, vertex_size=vertex, edge_pen_width=edge,\n",
    "#                       edge_color=edge, output=f'plots/graph/{country}/betweenness/betweenness_{name}.pdf')"
   ]
  },
  {
   "cell_type": "code",
   "execution_count": 39,
   "metadata": {},
   "outputs": [],
   "source": [
    "# BETWEENNESS Vertex\n",
    "for name, (country, g) in individual_graphs.items():\n",
    "    name = name[:-8]\n",
    "    if label in g.vertex_properties:\n",
    "        vertex, _ = centrality.betweenness(g, scale=100)\n",
    "        vertex = g.new_vp('float', vertex.a + 5)\n",
    "        threshold = vertex.a[np.argsort(vertex.a)[-int(g.num_vertices() * 0.03)]]\n",
    "        top5p = vertex.a > threshold\n",
    "        top5p = g.new_vp('boolean', top5p)\n",
    "        gt.graph_draw(g, vertex_size=vertex, vertex_fill_color=top5p,#edge_pen_width=edge,\n",
    "                      edge_color='#94949450', output=f'plots/graph/{country}/betweenness/betweenness_{name}.pdf')"
   ]
  },
  {
   "cell_type": "code",
   "execution_count": 40,
   "metadata": {},
   "outputs": [],
   "source": [
    "# CLOSENESS\n",
    "for name, (country, g) in individual_graphs.items():\n",
    "    name = name[:-8]\n",
    "    if label in g.vertex_properties:\n",
    "        vertex = centrality.closeness(g, scale=20)\n",
    "        gt.graph_draw(g, vertex_size=vertex, vertex_fill_color=vertex,\n",
    "                      edge_pen_width=0.1, edge_color='#94949450',\n",
    "                      output=f'plots/graph/{country}/closeness/closeness_{name}.pdf')"
   ]
  },
  {
   "cell_type": "code",
   "execution_count": 41,
   "metadata": {},
   "outputs": [],
   "source": [
    "# EIGENVECTOR vertex_size=vector\n",
    "for name, (country, g) in individual_graphs.items():\n",
    "    name = name[:-8]\n",
    "    if label in g.vertex_properties:\n",
    "        value, vector = centrality.eigenvector(g, scale=70)\n",
    "        gt.graph_draw(g, vertex_pen_width=1.4, vertex_fill_color=vector,\n",
    "                      edge_color='#94949450', edge_pen_width=0.1,\n",
    "                      output=f'plots/graph/{country}/eigenvector/eigenvector_{name}.pdf')"
   ]
  },
  {
   "cell_type": "code",
   "execution_count": null,
   "metadata": {},
   "outputs": [],
   "source": []
  }
 ],
 "metadata": {
  "kernelspec": {
   "display_name": "Python 3",
   "language": "python",
   "name": "python3"
  },
  "language_info": {
   "codemirror_mode": {
    "name": "ipython",
    "version": 3
   },
   "file_extension": ".py",
   "mimetype": "text/x-python",
   "name": "python",
   "nbconvert_exporter": "python",
   "pygments_lexer": "ipython3",
   "version": "3.7.0"
  }
 },
 "nbformat": 4,
 "nbformat_minor": 2
}
