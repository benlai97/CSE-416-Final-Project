{
 "cells": [
  {
   "cell_type": "markdown",
   "metadata": {},
   "source": [
    "## Summary Data for GraphML Files"
   ]
  },
  {
   "cell_type": "code",
   "execution_count": 11,
   "metadata": {},
   "outputs": [],
   "source": [
    "import graph_tool.all as gt\n",
    "import os\n",
    "import numpy as np\n",
    "import graph_tool\n",
    "from tqdm import tqdm_notebook\n",
    "\n",
    "from lib.analysis import clustering\n",
    "from lib.analysis import dist\n",
    "from lib.analysis import model\n",
    "from lib.analysis import power\n",
    "from lib.analysis import stats"
   ]
  },
  {
   "cell_type": "markdown",
   "metadata": {},
   "source": [
    "## Part 1: Summary Statistics\n",
    "\n",
    "Basic statistics for each country's government"
   ]
  },
  {
   "cell_type": "code",
   "execution_count": 2,
   "metadata": {},
   "outputs": [],
   "source": [
    "data = 'data'\n",
    "ignore = ['.DS_Store', 'us']\n",
    "nets = {}"
   ]
  },
  {
   "cell_type": "code",
   "execution_count": 71,
   "metadata": {},
   "outputs": [],
   "source": [
    "for country in [d for d in os.listdir(data) if d not in ignore]:\n",
    "    path = os.path.join(data, country)\n",
    "    if country not in nets:\n",
    "        nets[country] = []\n",
    "    for dir_ in [f for f in os.listdir(path) if f not in ignore]:\n",
    "        if not dir_.endswith('.graphml'):\n",
    "            net_path = os.path.join(path, dir_)\n",
    "            for net in [f for f in os.listdir(net_path) if f not in ignore]:\n",
    "                if net.endswith('.graphml'):\n",
    "                    nets[country].append((net[:-8], gt.load_graph(os.path.join(net_path, net))))"
   ]
  },
  {
   "cell_type": "code",
   "execution_count": 72,
   "metadata": {},
   "outputs": [],
   "source": [
    "for country, graphs in nets.items():\n",
    "    with open(f'summary.{country}.csv', 'w+') as f:\n",
    "        f.write(','.join(['Number of Edges', 'Number of Vertices',\n",
    "                  'Clustering Coefficient', 'Average Degree',\n",
    "                  'Average Excess Degree', 'Average Distance',\n",
    "                  'Size of LCC', 'Number of CC']) + '\\n')\n",
    "        for name, graph in graphs:\n",
    "            f.write(f'{name},{str(stats.summary(graph))}\\n')"
   ]
  },
  {
   "cell_type": "markdown",
   "metadata": {},
   "source": [
    "## Part 2: Assortivity\n",
    "\n",
    "Computes assoritivty on specified attribute for every country across years "
   ]
  },
  {
   "cell_type": "code",
   "execution_count": 5,
   "metadata": {},
   "outputs": [],
   "source": [
    "individual_graphs = {}\n",
    "root = 'data/'\n",
    "countries = os.listdir(root)\n",
    "nets = [country + \"/\" + net + \"/\" for country in countries\n",
    "                            for net in os.listdir(root + country)\n",
    "                            if not net.endswith('.graphml')]\n",
    "for net in nets:\n",
    "    for x in os.listdir(root+net):\n",
    "        if x.endswith('.graphml'):\n",
    "            individual_graphs[x] = gt.load_graph(root + net + x) "
   ]
  },
  {
   "cell_type": "code",
   "execution_count": 13,
   "metadata": {},
   "outputs": [
    {
     "name": "stdout",
     "output_type": "stream",
     "text": [
      "net_se2014-2018.graphml party <class 'str'>\n",
      "net_se2010-2014.graphml party <class 'str'>\n",
      "net_se2006-2010.graphml party <class 'str'>\n",
      "net_se1998-2002.graphml party <class 'str'>\n",
      "net_se2002-2006.graphml party <class 'str'>\n",
      "net_se1988-1991.graphml party <class 'str'>\n",
      "net_se1994-1998.graphml party <class 'str'>\n",
      "net_se1991-1994.graphml party <class 'str'>\n",
      "net_fr_an2007-2012.graphml party <class 'str'>\n",
      "net_fr_an2002-2007.graphml party <class 'str'>\n",
      "net_fr_an1986-1988.graphml party <class 'str'>\n",
      "net_fr_an2012-2017.graphml party <class 'str'>\n",
      "net_fr_an1997-2002.graphml party <class 'str'>\n",
      "net_fr_se1997-2002.graphml party <class 'str'>\n",
      "net_fr_se2012-2017.graphml party <class 'str'>\n",
      "net_fr_se1986-1988.graphml party <class 'str'>\n",
      "net_fr_se1988-1993.graphml party <class 'str'>\n",
      "net_fr_se1993-1997.graphml party <class 'str'>\n",
      "net_fr_se2002-2007.graphml party <class 'str'>\n",
      "net_fr_se2007-2012.graphml party <class 'str'>\n",
      "net_ch_cs1995-1999.graphml party <class 'str'>\n",
      "net_ch_cs2003-2007.graphml party <class 'str'>\n",
      "net_ch_cs2011-2015.graphml party <class 'str'>\n",
      "net_ch_cs1999-2003.graphml party <class 'str'>\n",
      "net_ch_cs2007-2011.graphml party <class 'str'>\n",
      "net_ch_cn2003-2007.graphml party <class 'str'>\n",
      "net_ch_cn1999-2003.graphml party <class 'str'>\n",
      "net_ch_cn2007-2011.graphml party <class 'str'>\n",
      "net_ch_cn2011-2015.graphml party <class 'str'>\n",
      "net_ch_cn1995-1999.graphml party <class 'str'>\n",
      "net_dkEconomy.graphml party <class 'str'>\n",
      "net_dkEnvironment.graphml party <class 'str'>\n",
      "net_dkHousing.graphml party <class 'str'>\n",
      "net_dkCulture.graphml party <class 'str'>\n",
      "net_dkJustice.graphml party <class 'str'>\n",
      "net_dkImmigration.graphml party <class 'str'>\n",
      "net_dkInstitutional.graphml party <class 'str'>\n",
      "net_dkWelfare.graphml party <class 'str'>\n",
      "net_dkHealth.graphml party <class 'str'>\n",
      "net_dkAgriculture.graphml party <class 'str'>\n",
      "net_dkForeign_Affairs.graphml party <class 'str'>\n",
      "net_dkTechnology.graphml party <class 'str'>\n",
      "net_dkEducation.graphml party <class 'str'>\n",
      "net_at2008-2013.graphml party <class 'str'>\n",
      "net_at1995-1999.graphml party <class 'str'>\n",
      "net_at2006-2008.graphml party <class 'str'>\n",
      "net_at1999-2002.graphml party <class 'str'>\n",
      "net_at2013-2018.graphml party <class 'str'>\n",
      "net_at1994-1995.graphml party <class 'str'>\n",
      "net_at2002-2006.graphml party <class 'str'>\n"
     ]
    }
   ],
   "source": [
    "attribute = 'part'\n",
    "with open(\"assortivity_summary.csv\", \"w+\") as f:\n",
    "    f.write(','.join(['Assortivity Measure']) + '\\n')\n",
    "    for name, g in individual_graphs.items():\n",
    "        if attribute in g.vertex_properties:\n",
    "            print(name, attribute)\n",
    "            g.set_directed(False)\n",
    "            gt.remove_parallel_edges(g)\n",
    "            stats.generate_party_property(g, attribute)\n",
    "#             print(g.vertex_properties[attribute])\n",
    "            print(gt.assortativity(g, g.vertex_properties[attribute]))\n",
    "#             print(stats.assortativity_summary(g, attribute))\n",
    "#             f.write(f'{name},{str(stats.assortativity_summary(g, attribute))}\\n')\n"
   ]
  },
  {
   "cell_type": "code",
   "execution_count": null,
   "metadata": {},
   "outputs": [],
   "source": []
  }
 ],
 "metadata": {
  "kernelspec": {
   "display_name": "Python 3",
   "language": "python",
   "name": "python3"
  },
  "language_info": {
   "codemirror_mode": {
    "name": "ipython",
    "version": 3
   },
   "file_extension": ".py",
   "mimetype": "text/x-python",
   "name": "python",
   "nbconvert_exporter": "python",
   "pygments_lexer": "ipython3",
   "version": "3.7.0"
  }
 },
 "nbformat": 4,
 "nbformat_minor": 2
}
