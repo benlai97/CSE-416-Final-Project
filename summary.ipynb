{
 "cells": [
  {
   "cell_type": "markdown",
   "metadata": {},
   "source": [
    "## Summary Data for GraphML Files"
   ]
  },
  {
   "cell_type": "code",
   "execution_count": 11,
   "metadata": {},
   "outputs": [],
   "source": [
    "import graph_tool.all as gt\n",
    "import os\n",
    "import numpy as np\n",
    "import graph_tool\n",
    "from tqdm import tqdm_notebook\n",
    "\n",
    "from lib.analysis import clustering\n",
    "from lib.analysis import dist\n",
    "from lib.analysis import model\n",
    "from lib.analysis import power\n",
    "from lib.analysis import stats"
   ]
  },
  {
   "cell_type": "markdown",
   "metadata": {},
   "source": [
    "## Part 1: Summary Statistics\n",
    "\n",
    "Basic statistics for each country's government"
   ]
  },
  {
   "cell_type": "code",
   "execution_count": 2,
   "metadata": {},
   "outputs": [],
   "source": [
    "data = 'data'\n",
    "ignore = ['.DS_Store', 'us']\n",
    "graphs = {}"
   ]
  },
  {
   "cell_type": "code",
   "execution_count": 3,
   "metadata": {},
   "outputs": [],
   "source": [
    "for country in [d for d in os.listdir(data) if d not in ignore]:\n",
    "    path = os.path.join(data, country)\n",
    "    for file in [f for f in os.listdir(path) if f not in ignore]:\n",
    "        if file.endswith('.graphml'):\n",
    "            fpath = os.path.join(path, file)\n",
    "            graphs[file[:-8]] = gt.load_graph(fpath)"
   ]
  },
  {
   "cell_type": "code",
   "execution_count": 4,
   "metadata": {},
   "outputs": [
    {
     "name": "stdout",
     "output_type": "stream",
     "text": [
      "net_se\n",
      "net_fr_se\n",
      "net_fr_an\n",
      "net_ch_cs\n",
      "net_ch_cn\n",
      "uk\n",
      "net_dk\n",
      "net_at\n"
     ]
    }
   ],
   "source": [
    "with open(\"summary.csv\", \"w+\") as f:\n",
    "    f.write(','.join(['Number of Edges', 'Number of Vertices',\n",
    "                      'Clustering Coefficient', 'Average Degree',\n",
    "                      'Average Excess Degree', 'Average Distance',\n",
    "                      'Size of LCC', 'Number of CC']) + '\\n')\n",
    "    for name, g in graphs.items():\n",
    "        print(name)\n",
    "        f.write(f'{name},{str(stats.summary(g))}\\n')"
   ]
  },
  {
   "cell_type": "markdown",
   "metadata": {},
   "source": [
    "## Part 2: Assortivity\n",
    "\n",
    "Computes assoritivty on specified attribute for every country across years "
   ]
  },
  {
   "cell_type": "code",
   "execution_count": 5,
   "metadata": {},
   "outputs": [],
   "source": [
    "individual_graphs = {}\n",
    "root = 'data/'\n",
    "countries = os.listdir(root)\n",
    "nets = [country + \"/\" + net + \"/\" for country in countries\n",
    "                            for net in os.listdir(root + country)\n",
    "                            if not net.endswith('.graphml')]\n",
    "for net in nets:\n",
    "    for x in os.listdir(root+net):\n",
    "        if x.endswith('.graphml'):\n",
    "            individual_graphs[x] = gt.load_graph(root + net + x) "
   ]
  },
  {
   "cell_type": "code",
   "execution_count": 21,
   "metadata": {},
   "outputs": [
    {
     "name": "stdout",
     "output_type": "stream",
     "text": [
      "net_se2014-2018.graphml g\n",
      "(0.919070438126929, 0.00667281236062147)\n",
      "net_se2010-2014.graphml g\n",
      "(0.9339871129514276, 0.005126731152600473)\n",
      "net_se2006-2010.graphml g\n",
      "(0.7828492250895068, 0.00789808228743157)\n",
      "net_se1998-2002.graphml g\n",
      "(0.7368033448584971, 0.007489920253249844)\n",
      "net_se2002-2006.graphml g\n",
      "(0.7316132255611362, 0.00736247019998879)\n",
      "net_se1988-1991.graphml g\n",
      "(0.7332035770916103, 0.007932464173526223)\n",
      "net_se1994-1998.graphml g\n",
      "(0.7508616505617521, 0.008051884863223028)\n",
      "net_se1991-1994.graphml g\n",
      "(0.670629876016202, 0.009019909615357148)\n",
      "net_fr_an2007-2012.graphml g\n",
      "(0.7123620320272429, 0.007365798362279337)\n",
      "net_fr_an2002-2007.graphml g\n",
      "(0.547913806170088, 0.007411622787048384)\n",
      "net_fr_an1988-1993.graphml g\n",
      "(nan, nan)\n",
      "net_fr_an1986-1988.graphml g\n",
      "(0.37535442399851965, 0.01402037372889709)\n",
      "net_fr_an2012-2017.graphml g\n",
      "(0.5756844493617229, 0.010365244876600418)\n",
      "net_fr_an1997-2002.graphml g\n",
      "(0.4402492378316323, 0.009035092198293054)\n",
      "net_fr_se1997-2002.graphml g\n",
      "(0.49776033441099354, 0.010598496105465491)\n",
      "net_fr_se2012-2017.graphml g\n",
      "(0.759344454101239, 0.007325088121402926)\n",
      "net_fr_se1986-1988.graphml g\n",
      "(0.7214267435200644, 0.021931015249549022)\n",
      "net_fr_se1988-1993.graphml g\n",
      "(0.647906014540239, 0.01358655243625823)\n",
      "net_fr_se1993-1997.graphml g\n",
      "(0.5261077607298817, 0.0151674608613899)\n",
      "net_fr_se2002-2007.graphml g\n",
      "(0.7257001807994009, 0.010221683199555971)\n",
      "net_fr_se2007-2012.graphml g\n",
      "(0.7722994613406965, 0.006232196425757539)\n",
      "net_ch_cs1995-1999.graphml g\n",
      "(0.14977629429727995, 0.056116657426646635)\n",
      "net_ch_cs2003-2007.graphml g\n",
      "(0.3264046768431308, 0.04334240232984377)\n",
      "net_ch_cs2011-2015.graphml g\n",
      "(0.19213973799126632, 0.06406504508908802)\n",
      "net_ch_cs1999-2003.graphml g\n",
      "(0.08012994599247783, 0.043545188935406466)\n",
      "net_ch_cs2007-2011.graphml g\n",
      "(0.2728627407693581, 0.05155177479185221)\n",
      "net_ch_cn2003-2007.graphml g\n",
      "(0.3907714637047191, 0.010247912231070884)\n",
      "net_ch_cn1999-2003.graphml g\n",
      "(0.34285104471141226, 0.010295004977114365)\n",
      "net_ch_cn2007-2011.graphml g\n",
      "(0.374687501254903, 0.009184724328477374)\n",
      "net_ch_cn2011-2015.graphml g\n",
      "(0.3894971218147629, 0.00991981442466307)\n",
      "net_ch_cn1995-1999.graphml g\n",
      "(0.4597939033490705, 0.012858806564341957)\n",
      "net_dkEconomy.graphml g\n",
      "(0.5970213511807217, 0.0230774642449771)\n",
      "net_dkEnvironment.graphml g\n",
      "(0.6247541382819964, 0.031550800299004166)\n",
      "net_dkHousing.graphml g\n",
      "(0.9118942731277533, 0.04910103897148539)\n",
      "net_dkCulture.graphml g\n",
      "(0.577032690695725, 0.061044096442673695)\n",
      "net_dkJustice.graphml g\n",
      "(0.5316944680958153, 0.024265886159800482)\n",
      "net_dkImmigration.graphml g\n",
      "(0.5304978920966967, 0.03941354908389764)\n",
      "net_dkInstitutional.graphml g\n",
      "(0.2946864149782446, 0.05288451416200645)\n",
      "net_dkWelfare.graphml g\n",
      "(0.5697762454427917, 0.03182585745901373)\n",
      "net_dkHealth.graphml g\n",
      "(0.5204555190632586, 0.0378043295474137)\n",
      "net_dkAgriculture.graphml g\n",
      "(0.6795352323838082, 0.04857748693493031)\n",
      "net_dkForeign_Affairs.graphml g\n",
      "(0.6190476190476191, 0.04145755547382859)\n",
      "net_dkTechnology.graphml g\n",
      "(0.7031863814927979, 0.06309648082469578)\n",
      "net_dkEducation.graphml g\n",
      "(0.6227158724471517, 0.03477527308774187)\n",
      "net_at2008-2013.graphml g\n",
      "(-0.433727442439328, 0.029429848445279506)\n",
      "net_at1995-1999.graphml g\n",
      "(-0.5116895637503012, 0.07182173799751279)\n",
      "net_at2006-2008.graphml g\n",
      "(-0.4336283185840708, 0.04459170429208596)\n",
      "net_at1999-2002.graphml g\n",
      "(-0.4906192927112734, 0.049607927700094936)\n",
      "net_at2013-2018.graphml g\n",
      "(-0.34390400685665307, 0.04113507097148169)\n",
      "net_at1994-1995.graphml g\n",
      "(-0.37254901960784315, 0.07011028373460249)\n",
      "net_at2002-2006.graphml g\n",
      "(-0.5194658448895737, 0.03785874379081439)\n"
     ]
    }
   ],
   "source": [
    "attribute = 'part'\n",
    "with open(\"assortivity_summary.csv\", \"w+\") as f:\n",
    "    f.write(','.join(['Assortivity Measure']) + '\\n')\n",
    "    for name, g in individual_graphs.items():\n",
    "        if attribute in g.vertex_properties:\n",
    "            print(name, attribute)\n",
    "            g.set_directed(False)\n",
    "            gt.remove_parallel_edges(g)\n",
    "            stats.generate_party_property(g, attribute)\n",
    "#             print(g.vertex_properties[attribute])\n",
    "            print(gt.assortativity(g, g.vertex_properties[attribute]))\n",
    "#             print(stats.assortativity_summary(g, attribute))\n",
    "#             f.write(f'{name},{str(stats.assortativity_summary(g, attribute))}\\n')\n"
   ]
  },
  {
   "cell_type": "code",
   "execution_count": null,
   "metadata": {},
   "outputs": [],
   "source": []
  }
 ],
 "metadata": {
  "kernelspec": {
   "display_name": "Python 3",
   "language": "python",
   "name": "python3"
  },
  "language_info": {
   "codemirror_mode": {
    "name": "ipython",
    "version": 3
   },
   "file_extension": ".py",
   "mimetype": "text/x-python",
   "name": "python",
   "nbconvert_exporter": "python",
   "pygments_lexer": "ipython3",
   "version": "3.7.0"
  }
 },
 "nbformat": 4,
 "nbformat_minor": 2
}
