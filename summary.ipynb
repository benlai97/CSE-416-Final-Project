{
 "cells": [
  {
   "cell_type": "markdown",
   "metadata": {},
   "source": [
    "## Summary Data for GraphML Files"
   ]
  },
  {
   "cell_type": "code",
   "execution_count": 1,
   "metadata": {},
   "outputs": [],
   "source": [
    "import graph_tool.all as gt\n",
    "import os\n",
    "import numpy as np\n",
    "import graph_tool\n",
    "from tqdm import tqdm_notebook\n",
    "\n",
    "from lib.analysis import clustering\n",
    "from lib.analysis import dist\n",
    "from lib.analysis import model\n",
    "from lib.analysis import power\n",
    "from lib.analysis import stats"
   ]
  },
  {
   "cell_type": "markdown",
   "metadata": {},
   "source": [
    "## Part 1: Summary Statistics\n",
    "\n",
    "Basic statistics for each country's government"
   ]
  },
  {
   "cell_type": "code",
   "execution_count": 31,
   "metadata": {},
   "outputs": [],
   "source": [
    "data = 'data'\n",
    "ignore = ['.DS_Store', 'us']\n",
    "graphs = {}"
   ]
  },
  {
   "cell_type": "code",
   "execution_count": 3,
   "metadata": {},
   "outputs": [],
   "source": [
    "for country in [d for d in os.listdir(data) if d not in ignore]:\n",
    "    path = os.path.join(data, country)\n",
    "    if country not in nets:\n",
    "        nets[country] = []\n",
    "    for dir_ in [f for f in os.listdir(path) if f not in ignore]:\n",
    "        if not dir_.endswith('.graphml'):\n",
    "            net_path = os.path.join(path, dir_)\n",
    "            for net in [f for f in os.listdir(net_path) if f not in ignore]:\n",
    "                if net.endswith('.graphml'):\n",
    "                    nets[country].append((net[:-8], gt.load_graph(os.path.join(net_path, net))))"
   ]
  },
  {
   "cell_type": "code",
   "execution_count": 4,
   "metadata": {},
   "outputs": [
    {
     "name": "stdout",
     "output_type": "stream",
     "text": [
      "net_se\n",
      "net_fr_se\n",
      "net_fr_an\n",
      "net_ch_cs\n",
      "net_ch_cn\n",
      "uk\n",
      "net_dk\n",
      "net_at\n"
     ]
    }
   ],
   "source": [
    "for country, graphs in nets.items():\n",
    "    with open(f'summary.{country}.csv', 'w+') as f:\n",
    "        f.write(','.join(['Number of Edges', 'Number of Vertices',\n",
    "                  'Clustering Coefficient', 'Average Degree',\n",
    "                  'Average Excess Degree', 'Average Distance',\n",
    "                  'Size of LCC', 'Number of CC']) + '\\n')\n",
    "        for name, graph in graphs:\n",
    "            f.write(f'{name},{str(stats.summary(graph))}\\n')"
   ]
  },
  {
   "cell_type": "markdown",
   "metadata": {},
   "source": [
    "## Part 2: Assortivity\n",
    "\n",
    "**Computes assoritivty on specified attribute for every country across years**"
   ]
  },
  {
   "cell_type": "code",
   "execution_count": 2,
   "metadata": {},
   "outputs": [],
   "source": [
    "individual_graphs = {}\n",
    "root = 'data/'\n",
    "countries = os.listdir(root)\n",
    "nets = [country + \"/\" + net + \"/\" for country in countries\n",
    "                            for net in os.listdir(root + country)\n",
    "                            if not net.endswith('.graphml')]\n",
    "for net in nets:\n",
    "    for x in os.listdir(root+net):\n",
    "        if x.endswith('.graphml'):\n",
    "            individual_graphs[x] = gt.load_graph(root + net + x) "
   ]
  },
  {
   "cell_type": "code",
   "execution_count": 3,
   "metadata": {},
   "outputs": [],
   "source": [
    "attribute = 'party'\n",
    "label = 'party_id'\n",
    "with open(\"assortivity_summary.csv\", \"w+\") as f:\n",
    "    f.write(','.join(['Assortivity Measure']) + '\\n')\n",
    "    for name, g in individual_graphs.items():\n",
    "        if attribute in g.vertex_properties:\n",
    "            g.set_directed(False)\n",
    "            gt.remove_parallel_edges(g)\n",
    "            stats.generate_party_property(g, attribute)\n",
    "            f.write(f'{name},{str(stats.assortativity_summary(g, label))}\\n')\n"
   ]
  },
  {
   "cell_type": "markdown",
   "metadata": {},
   "source": [
    "**Produces assortativity graphs for every country** \n",
    "* !!!!!!!!! Please do not run this again, Im autistic and manually moved each pdf into its subdirectory"
   ]
  },
  {
   "cell_type": "code",
   "execution_count": 4,
   "metadata": {},
   "outputs": [],
   "source": [
    "for name, g in individual_graphs.items():\n",
    "    name = name.split('.')[0]\n",
    "    if label in g.vertex_properties:\n",
    "        gt.graph_draw(g, vertex_fill_color = g.vertex_properties['party_id'], output = \"assortativity_\" + name + \".pdf\" )"
   ]
  }
 ],
 "metadata": {
  "kernelspec": {
   "display_name": "Python 3",
   "language": "python",
   "name": "python3"
  },
  "language_info": {
   "codemirror_mode": {
    "name": "ipython",
    "version": 3
   },
   "file_extension": ".py",
   "mimetype": "text/x-python",
   "name": "python",
   "nbconvert_exporter": "python",
   "pygments_lexer": "ipython3",
   "version": "3.7.0"
  }
 },
 "nbformat": 4,
 "nbformat_minor": 2
}
